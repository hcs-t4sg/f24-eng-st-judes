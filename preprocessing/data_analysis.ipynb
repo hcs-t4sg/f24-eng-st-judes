{
  "cells": [
    {
      "cell_type": "code",
      "execution_count": null,
      "metadata": {
        "colab": {
          "base_uri": "https://localhost:8080/"
        },
        "id": "XQrj2a3E0K-_",
        "outputId": "c609efbe-1809-40d5-e5c7-2c64af8474e0"
      },
      "outputs": [
        {
          "name": "stdout",
          "output_type": "stream",
          "text": [
            "/content/drive/MyDrive/T4SG St Jude/New Assets\n",
            " 00053127-007_TIF.Jpg\t\t\t  00203343-001_TIF.Jpg\n",
            " 00053127-011_TIF.Jpg\t\t\t  00203343-002_TIF.Jpg\n",
            " 00054250-022_TIF.Jpg\t\t\t  00203343-003_TIF.Jpg\n",
            " 00054250-023_TIF.Jpg\t\t\t  00203343-009_TIF.Jpg\n",
            " 00054889-030_TIF.Jpg\t\t\t  00203343-010_TIF.Jpg\n",
            " 00055143-008_TIF.Jpg\t\t\t  00203343-012_TIF.Jpg\n",
            " 00055524-068_TIF.Jpg\t\t\t  00203343-016_TIF.Jpg\n",
            " 00055524-069_TIF.Jpg\t\t\t  00203343-024_TIF.Jpg\n",
            " 00055524-121_TIF.Jpg\t\t\t  00203343-028_TIF.Jpg\n",
            " 00055527-003_TIF.Jpg\t\t\t  00203343-031_TIF.Jpg\n",
            " 00055883-01-010c_TIF.Jpg\t\t  00203343-034_TIF.Jpg\n",
            " 00055883-01-010_TIF.Jpg\t\t  00203343-036_TIF.Jpg\n",
            " 00091968-643_TIF.Jpg\t\t\t  00203343-037_TIF.Jpg\n",
            " 00091968-653_TIF.Jpg\t\t\t  00203343-038_TIF.Jpg\n",
            " 00092847-476_TIF.Jpg\t\t\t  00203343-039_TIF.Jpg\n",
            " 00092850-021_TIF.Jpg\t\t\t  00203343-042_TIF.Jpg\n",
            " 00093026-002_TIF.Jpg\t\t\t  00203343-043_TIF.Jpg\n",
            " 00093026-005_TIF.Jpg\t\t\t  00203343-044_TIF.Jpg\n",
            " 00093508-134_TIF.Jpg\t\t\t  00203343-046_TIF.Jpg\n",
            " 00094845-036_TIF.Jpg\t\t\t  00203343-052_TIF.Jpg\n",
            " 00094920-004_TIF.Jpg\t\t\t  00203343-054_TIF.Jpg\n",
            " 00094920-005_TIF.Jpg\t\t\t  00203343-056_TIF.Jpg\n",
            " 00094920-015_TIF.Jpg\t\t\t  00203343-057_TIF.Jpg\n",
            " 00094920-017_TIF.Jpg\t\t\t  00203404-151_cmp_TIF.Jpg\n",
            " 00094920-020_TIF.Jpg\t\t\t  00203404-154_cmp_TIF.Jpg\n",
            " 00094920-021_TIF.Jpg\t\t\t  00203404-155_cmp_TIF.Jpg\n",
            " 00094923-073_TIF.Jpg\t\t\t  00203404-157_cmp_TIF.Jpg\n",
            " 00094923-076_TIF.Jpg\t\t\t  00203404-158_cmp_TIF.Jpg\n",
            " 00095216-003_TIF.Jpg\t\t\t  00203404-159_cmp_TIF.Jpg\n",
            " 00095669-031_TIF.Jpg\t\t\t  00203404-160_cmp_TIF.Jpg\n",
            " 00095747-010_TIF.Jpg\t\t\t  00203404-162_cmp_TIF.Jpg\n",
            " 00095768-012_TIF.Jpg\t\t\t  00203459-021_Rock_TIF.Jpg\n",
            " 00095768-028_TIF.Jpg\t\t\t  00203581-008_Webster_TIF.Jpg\n",
            " 00095768-100_TIF.Jpg\t\t\t  00203862-004_TIF.Jpg\n",
            " 00095769-001_TIF.Jpg\t\t\t  00204002-008_TIF.Jpg\n",
            " 00095769-063_TIF.Jpg\t\t\t  00204002-009_TIF.Jpg\n",
            " 00095769-085_TIF.Jpg\t\t\t  00204002-022_TIF.Jpg\n",
            " 00095769-112_TIF.Jpg\t\t\t  00204002-027_TIF.Jpg\n",
            " 00095769-113_TIF.Jpg\t\t\t  00204002-032_Wang_TIF.Jpg\n",
            " 00097525-001_TIF.Jpg\t\t\t  00204002-036_Wang_TIF.Jpg\n",
            " 00097568-025_TIF.Jpg\t\t\t  00204007-024_Davidoff_TIF.Jpg\n",
            " 00097568-026_TIF.Jpg\t\t\t  00204007-025_TIF.Jpg\n",
            " 00097568-032_TIF.Jpg\t\t\t  00204007-032_TIF.Jpg\n",
            " 00097568-047_TIF.Jpg\t\t\t  00204007-033_TIF.Jpg\n",
            " 00098897-007_TIF.Jpg\t\t\t  00204007-035_TIF.Jpg\n",
            " 00099095-007_TIF.Jpg\t\t\t  00204007-036_TIF.Jpg\n",
            " 00099095-009_TIF.Jpg\t\t\t  00204007-040_TIF.Jpg\n",
            " 00099095-011_TIF.Jpg\t\t\t  00204489-001_TIF.Jpg\n",
            " 00099734-003_TIF.Jpg\t\t\t  00204489-002_TIF.Jpg\n",
            " 00099734-004_TIF.Jpg\t\t\t  00204489-008_TIF.Jpg\n",
            " 00099734-005_TIF.Jpg\t\t\t  00204489-010_TIF.Jpg\n",
            " 00099923-006_TIF.Jpg\t\t\t  00204489-012_TIF.Jpg\n",
            " 00100212-006_TIF.Jpg\t\t\t  00204489-013_TIF.Jpg\n",
            " 00100347-001_TIF.Jpg\t\t\t  00204489-026_TIF.Jpg\n",
            " 00100347-002_TIF.Jpg\t\t\t  00204489-028_TIF.Jpg\n",
            " 00100347-003_TIF.Jpg\t\t\t  00204567-007_Robinson_TIF.Jpg\n",
            " 00100652-061_TIF.Jpg\t\t\t  00204567-008_Robinson_TIF.Jpg\n",
            " 00100652-066_TIF.Jpg\t\t\t  00204567-010_TIF.Jpg\n",
            " 00100652-067_TIF.Jpg\t\t\t  00204567-037_Wolf_TIF.Jpg\n",
            " 00100974-007_TIF.Jpg\t\t\t  00204589-039_TIF.Jpg\n",
            " 00104856-001_TIF.Jpg\t\t\t  00204666-043_TIF.Jpg\n",
            " 00105024-002_TIF.Jpg\t\t\t  00204666-053_TIF.Jpg\n",
            " 00105024-003_TIF.Jpg\t\t\t  00204666-070_TIF.Jpg\n",
            " 00105024-012_TIF.Jpg\t\t\t  00204666-080_TIF.Jpg\n",
            " 00105806-008_TIF.Jpg\t\t\t  00204666-111_TIF.Jpg\n",
            " 00108361-001_TIF.Jpg\t\t\t  00204666-113_TIF.Jpg\n",
            " 00108361-004_TIF.Jpg\t\t\t  00204666-119_TIF.Jpg\n",
            " 00108361-007_TIF.Jpg\t\t\t  00204666-127_TIF.Jpg\n",
            " 00108361-008_TIF.Jpg\t\t\t  00204680-002_TIF.Jpg\n",
            " 00108838-013_TIF.Jpg\t\t\t  00204680-005_TIF.Jpg\n",
            " 00109120-016_TIF.Jpg\t\t\t  00204680-015_TIF.Jpg\n",
            " 00109203-009_TIF.Jpg\t\t\t  00204680-023_TIF.Jpg\n",
            " 00109214-018_TIF.Jpg\t\t\t  00204680-025_TIF.Jpg\n",
            " 00109214-023_TIF.Jpg\t\t\t  00204680-028_TIF.Jpg\n",
            " 00111135-012_TIF.Jpg\t\t\t  00204697-010_TIF.Jpg\n",
            " 00111135-014_TIF.Jpg\t\t\t  00204697-011_TIF.Jpg\n",
            " 00111711-0080_TIF.Jpg\t\t\t  00204697-012_TIF.Jpg\n",
            " 00112441-046_TIF.Jpg\t\t\t  00204753-009_TIF.Jpg\n",
            " 00112507-019_TIF.Jpg\t\t\t  00204754-015_TIF.Jpg\n",
            " 00112529-018_TIF.Jpg\t\t\t  00204787-002_TIF.Jpg\n",
            " 00113043-008_TIF.Jpg\t\t\t  00204787-015_TIF.Jpg\n",
            " 00113732-001_TIF.Jpg\t\t\t  00204787-016_TIF.Jpg\n",
            " 00114204-002_TIF.Jpg\t\t\t  00204787-017_TIF.Jpg\n",
            " 00114242-005_TIF.Jpg\t\t\t  00204787-022_TIF.Jpg\n",
            " 00114333-011_TIF.Jpg\t\t\t  00204787-024_TIF.Jpg\n",
            " 00114333-017_TIF.Jpg\t\t\t  00204789-136_TIF.Jpg\n",
            " 00114333-019_TIF.Jpg\t\t\t  00204791-004_TIF.Jpg\n",
            " 00114333-020_TIF.Jpg\t\t\t  00204791-006_TIF.Jpg\n",
            " 00115417-006_TIF.Jpg\t\t\t  00204796-002_TIF.Jpg\n",
            " 00115417-014_TIF.Jpg\t\t\t  00204796-004_TIF.Jpg\n",
            " 00115417-016_TIF.Jpg\t\t\t  00204798-011_TIF.Jpg\n",
            " 00115417-025_TIF.Jpg\t\t\t  00204874-039_TIF.Jpg\n",
            " 00115417-040_TIF.Jpg\t\t\t  00204874-069_Mullighan_TIF.Jpg\n",
            " 00115417-047_TIF.Jpg\t\t\t  00204879-009_Yang_TIF.Jpg\n",
            " 00115417-050_TIF.Jpg\t\t\t  00204886-003_TIF.Jpg\n",
            " 00115417-069_TIF.Jpg\t\t\t  00204886-016_TIF.Jpg\n",
            " 00115417-075_TIF.Jpg\t\t\t  00204886-017_TIF.Jpg\n",
            " 00115417-078_TIF.Jpg\t\t\t  00204886-020_TIF.Jpg\n",
            " 00115417-091_TIF.Jpg\t\t\t  00204886-023_TIF.Jpg\n",
            " 00115417-094_TIF.Jpg\t\t\t  00204903-005_TIF.Jpg\n",
            " 00115417-104_TIF.Jpg\t\t\t  00204903-010_TIF.Jpg\n",
            " 00115417-105_TIF.Jpg\t\t\t  00205004-012_TIF.Jpg\n",
            " 00115417-106_TIF.Jpg\t\t\t  00205170-013_TIF.Jpg\n",
            " 00115417-109_TIF.Jpg\t\t\t  00205236-020_TIF.Jpg\n",
            " 00115417-117_TIF.Jpg\t\t\t  00205707-003_Xia_TIF.Jpg\n",
            " 00115417-138_TIF.Jpg\t\t\t  00205707-006_Xia_TIF.Jpg\n",
            " 00115417-140_TIF.Jpg\t\t\t '00205707-013_ Xia_TIF.Jpg'\n",
            " 00115417-142_TIF.Jpg\t\t\t  00205707-016_Xia_TIF.Jpg\n",
            " 00115417-145_TIF.Jpg\t\t\t  00205722-008_TIF.Jpg\n",
            " 00115417-150_TIF.Jpg\t\t\t  00205722-018_TIF.Jpg\n",
            " 00115417-172_TIF.Jpg\t\t\t  00205732-001_TIF.Jpg\n",
            " 00115417-181_TIF.Jpg\t\t\t  00205747-010_Halic_TIF.Jpg\n",
            " 00115417-182_TIF.Jpg\t\t\t  00205747-014_TIF.Jpg\n",
            " 00115458-003_TIF.Jpg\t\t\t  00205747-015_TIF.Jpg\n",
            " 00115759-006_Doherty_TIF.Jpg\t\t  00205804-005_TIF.Jpg\n",
            " 00115759-027_Doherty_TIF.Jpg\t\t  00205804-010_TIF.Jpg\n",
            " 00115759-031_Doherty_TIF.Jpg\t\t  00205804-011_TIF.Jpg\n",
            " 00115759-044_Doherty_TIF.Jpg\t\t  00205847-016_TIF.Jpg\n",
            " 00115903-009_TIF.Jpg\t\t\t  00205847-017_TIF.Jpg\n",
            " 00115904-002_TIF.Jpg\t\t\t  00205847-018_TIF.Jpg\n",
            " 00115904-003_TIF.Jpg\t\t\t  00205847-019_TIF.Jpg\n",
            " 00115904-005_TIF.Jpg\t\t\t  00205847-020_TIF.Jpg\n",
            " 00115904-017_TIF.Jpg\t\t\t  00205848-005_Roberts_TIF.Jpg\n",
            " 00117316-021_TIF.Jpg\t\t\t  00205848-021_Roberts_TIF.Jpg\n",
            " 00117316-025_TIF.Jpg\t\t\t  00205848-023_Roberts_TIF.Jpg\n",
            " 00117316-028_TIF.Jpg\t\t\t  00205848-025_Roberts_TIF.Jpg\n",
            " 00117988-034_wm_TIF.Jpg\t\t  00205872-008_Inaba_TIF.Jpg\n",
            " 00118513-031_TIF.Jpg\t\t\t  00206091-001_Neufeld_TIF.Jpg\n",
            " 00118513-032_TIF.Jpg\t\t\t  00206276-002_Rodriguez-Galindo_TIF.Jpg\n",
            " 00118513-056_TIF.Jpg\t\t\t  00206276-004_Rodriguez-Galindo_TIF.Jpg\n",
            " 00118513-066_TIF.Jpg\t\t\t  00206276-008_Rodriguez-Galindo_TIF.Jpg\n",
            " 00118513-067_TIF.Jpg\t\t\t  00206276-012_Rodriguez-Galindo_TIF.Jpg\n",
            " 00118940-007_TIF.Jpg\t\t\t  00206298-004_Thomas_TIF.Jpg\n",
            " 00118940-014_TIF.Jpg\t\t\t  00206922-001_TIF.Jpg\n",
            " 00118940-016_TIF.Jpg\t\t\t  00206943-002_TIF.Jpg\n",
            " 00118940-028_TIF.Jpg\t\t\t  00206943-013_TIF.Jpg\n",
            " 00118940-035_TIF.Jpg\t\t\t  00207603-004_TIF.Jpg\n",
            " 00118940-048_TIF.Jpg\t\t\t  00207603-005_TIF.Jpg\n",
            " 00118940-053_TIF.Jpg\t\t\t  00207603-008_TIF.Jpg\n",
            " 00118940-060_TIF.Jpg\t\t\t  00207603-009_TIF.Jpg\n",
            " 00119800-0025_TIF.Jpg\t\t\t  00207603-010_TIF.Jpg\n",
            " 00119800-0026_TIF.Jpg\t\t\t  00207603-011_TIF.Jpg\n",
            " 00120018-019_TIF.Jpg\t\t\t  00207603-014_TIF.Jpg\n",
            " 00120386-002_TIF.Jpg\t\t\t  00208555-004_v3_TIF.Jpg\n",
            " 00120881-035_TIF.Jpg\t\t\t  00208563-001_TIF.Jpg\n",
            " 00122243-002_TIF.Jpg\t\t\t  00209054-004_TIF.Jpg\n",
            " 00123816-100_TIF.Jpg\t\t\t  00209054-005_TIF.Jpg\n",
            " 00123816-180_TIF.Jpg\t\t\t  00209054-008_TIF.Jpg\n",
            " 00124459-004_TIF.Jpg\t\t\t  00209054-009_TIF.Jpg\n",
            " 00124459-009_TIF.Jpg\t\t\t  00209054-028_TIF.Jpg\n",
            " 00124459-010_TIF.Jpg\t\t\t  00209420-001_TIF.Jpg\n",
            " 00124459-014_TIF.Jpg\t\t\t  00209420-008_TIF.Jpg\n",
            " 00124479-010_TIF.Jpg\t\t\t  00209420-030_TIF.Jpg\n",
            " 00124559-022_TIF.Jpg\t\t\t  00209420-031_cmp_TIF.Jpg\n",
            " 00124680-053_TIF.Jpg\t\t\t  00209420-032_cmp_TIF.Jpg\n",
            " 00124680-077_TIF.Jpg\t\t\t  00209572-002_TIF.Jpg\n",
            " 00124752-016_TIF.Jpg\t\t\t  00209583-002_TIF.Jpg\n",
            " 00124752-028_TIF.Jpg\t\t\t  00209583-003_TIF.Jpg\n",
            " 00124752-059_TIF.Jpg\t\t\t  00209589-028_TIF.Jpg\n",
            " 00125030-001_wm_TIF.Jpg\t\t  00209677-004_TIF.Jpg\n",
            " 00125030-016_wm_TIF.Jpg\t\t  00209677-006_TIF.Jpg\n",
            " 00125030-018_wm_TIF.Jpg\t\t  00209901-012_TIF.Jpg\n",
            " 00125030-021_wm_TIF.Jpg\t\t  00209908-031_CMP_TIF.Jpg\n",
            " 00125464-008_TIF.Jpg\t\t\t  00209908-032_CMP_TIF.Jpg\n",
            " 00126066-052_TIF.Jpg\t\t\t  00209927-004_TIF.Jpg\n",
            " 00126066-063_TIF.Jpg\t\t\t  00209927-010_TIF.Jpg\n",
            " 00126066-064_TIF.Jpg\t\t\t  00209927-020_TIF.Jpg\n",
            " 00132413-174_TIF.Jpg\t\t\t  00209993-094_Bhakta_TIF.Jpg\n",
            " 00132413-183_TIF.Jpg\t\t\t  00210283-048_cmp_TIF.Jpg\n",
            " 00132413-188_TIF.Jpg\t\t\t  00210494-004_TIF.Jpg\n",
            " 00132413-219_TIF.Jpg\t\t\t  00210494-009_TIF.Jpg\n",
            " 00132413-236_TIF.Jpg\t\t\t  00211053-013_TIF.Jpg\n",
            " 00132413-272_TIF.Jpg\t\t\t  00211077-030_Dyer_TIF.Jpg\n",
            " 00133088-012_wm_TIF.Jpg\t\t  00211108-017_TIF.Jpg\n",
            " 00133088-016_wm_TIF.Jpg\t\t  00211108-029_TIF.Jpg\n",
            " 00133088-018_wm_TIF.Jpg\t\t  00211108-030_TIF.Jpg\n",
            " 00133088-020_wm_TIF.Jpg\t\t  00211108-080_TIF.Jpg\n",
            " 00133088-022_wm_TIF.Jpg\t\t  00211139-016_TIF.Jpg\n",
            " 00133088-024_wm_TIF.Jpg\t\t  00211245-155_cmp_TIF.Jpg\n",
            " 00133088-027_wm_TIF.Jpg\t\t  00211245-156_cmp_TIF.Jpg\n",
            " 00133088-029_wm_TIF.Jpg\t\t  00211245-157_cmp_TIF.Jpg\n",
            " 00133193-0269_TIF.Jpg\t\t\t  00211245-159_cmp_TIF.Jpg\n",
            " 00133193-0305_TIF.Jpg\t\t\t  00211245-160_cmp_TIF.Jpg\n",
            " 00133193-0311_TIF.Jpg\t\t\t  00211245-161_cmp_TIF.Jpg\n",
            " 00133193-0346_TIF.Jpg\t\t\t  00211245-162_cmp_TIF.Jpg\n",
            " 00133193-0373_TIF.Jpg\t\t\t  00211301-021_TIF.Jpg\n",
            " 00133193-0383_TIF.Jpg\t\t\t  00211332-004_TIF.Jpg\n",
            " 00133375-029_TIF.Jpg\t\t\t  00211332-007_TIF.Jpg\n",
            " 00133375-030_TIF.Jpg\t\t\t  00211332-018_TIF.Jpg\n",
            " 00133755-028_TIF.Jpg\t\t\t  00211332-027_TIF.Jpg\n",
            " 00133755-038_TIF.Jpg\t\t\t  00211333-012_Kanneganti_TIF.Jpg\n",
            " 00134014-003_TIF.Jpg\t\t\t  00211902-005_Neufeld_TIF.Jpg\n",
            " 00134047-014_TIF.Jpg\t\t\t  00211902-135_Geiger_TIF.Jpg\n",
            " 00134047-024_TIF.Jpg\t\t\t  00211902-259_Rodriguez-Galino_TIF.Jpg\n",
            " 00134047-059_TIF.Jpg\t\t\t  00211914-001_TIF.Jpg\n",
            " 00134750-006_TIF.Jpg\t\t\t  00211914-010_TIF.Jpg\n",
            " 00134761-010_TIF.Jpg\t\t\t  00211914-027_TIF.Jpg\n",
            " 00134761-011_TIF.Jpg\t\t\t  00211914-032_TIF.Jpg\n",
            " 00134792-005_wm_TIF.Jpg\t\t  00211914-035_TIF.Jpg\n",
            " 00134792-014_wm_TIF.Jpg\t\t  00211914-037_TIF.Jpg\n",
            " 00134853-007_TIF.Jpg\t\t\t  00211914-041_TIF.Jpg\n",
            " 00134853-013_TIF.Jpg\t\t\t  00211914-047_TIF.Jpg\n",
            " 00134908-001_TIF.Jpg\t\t\t  00211914-049_TIF.Jpg\n",
            " 00135972-184_TIF.Jpg\t\t\t  00211914-055_TIF.Jpg\n",
            " 00135972-246_TIF.Jpg\t\t\t  00211922-076_TIF.Jpg\n",
            " 00135972-330_TIF.Jpg\t\t\t  00211922-107_TIF.Jpg\n",
            " 00135972-348_TIF.Jpg\t\t\t  00211922-115_TIF.Jpg\n",
            " 00135972-460_TIF.Jpg\t\t\t  00211922-121_TIF.Jpg\n",
            " 00135972-564_TIF.Jpg\t\t\t  00211950-843_TIF.Jpg\n",
            " 00135972-608_TIF.Jpg\t\t\t  00211950-847_TIF.Jpg\n",
            " 00135972-611_TIF.Jpg\t\t\t  00211991-011_JPG.Jpg\n",
            " 00135972-614_TIF.Jpg\t\t\t  00212001-010_TIF.Jpg\n",
            " 00135972-633_TIF.Jpg\t\t\t  00212001-011_TIF.Jpg\n",
            " 00135972-636_TIF.Jpg\t\t\t  00212010-038_TIF.Jpg\n",
            " 00136056-048_wm_TIF.Jpg\t\t  00212014-032_TIF.Jpg\n",
            " 00136352-001_wm_TIF.Jpg\t\t  00212017-011_TIF.Jpg\n",
            " 00136492-068_wm_TIF.Jpg\t\t  00212024-420_TIF.Jpg\n",
            " 00136492-085_wm_TIF.Jpg\t\t  00212024-425_TIF.Jpg\n",
            " 00136492-094_wm_TIF.Jpg\t\t  00212024-426_TIF.Jpg\n",
            " 00136492-104_wm_TIF.Jpg\t\t  00212024-430_TIF.Jpg\n",
            " 00136492-113_wm_TIF.Jpg\t\t  00212024-434_TIF.Jpg\n",
            " 00136492-115_wm_TIF.Jpg\t\t  00212024-435_TIF.Jpg\n",
            " 00137612-026_wm_TIF.Jpg\t\t  00212024-436_TIF.Jpg\n",
            " 00137613-058_wm_TIF.Jpg\t\t  00212099-001_TIF.Jpg\n",
            " 00138062-053_wm_TIF.Jpg\t\t  00212099-004_TIF.Jpg\n",
            " 00138062-055_wm_TIF.Jpg\t\t  00212099-011_TIF.Jpg\n",
            " 00138062-056_wm_TIF.Jpg\t\t  00212099-013_TIF.Jpg\n",
            " 00138171-065_wm_TIF.Jpg\t\t  00212099-019_TIF.Jpg\n",
            " 00138171-067_wm_TIF.Jpg\t\t  00212099-023_TIF.Jpg\n",
            " 00138190-165_wm_TIF.Jpg\t\t  00212102-002_TIF.Jpg\n",
            " 00138265-043_wm_TIF.Jpg\t\t  00212102-004_TIF#01.Jpg\n",
            " 00138290-022_wm_TIF.Jpg\t\t  00212102-004_TIF.Jpg\n",
            " 00138290-025_wm_TIF.Jpg\t\t  00212102-005_TIF#01.Jpg\n",
            " 00138470-002_wm_TIF.Jpg\t\t  00212102-005_TIF.Jpg\n",
            " 00138470-003_wm_TIF.Jpg\t\t  00212102-006_TIF#01.Jpg\n",
            " 00138470-012_wm_TIF.Jpg\t\t  00212102-006_TIF.Jpg\n",
            " 00138470-014_wm_TIF.Jpg\t\t  00212102-014_TIF.Jpg\n",
            " 00138478-026_wm_TIF.Jpg\t\t  00212108-005_TIF.Jpg\n",
            " 00138478-028_wm_TIF.Jpg\t\t  00212108-007_TIF.Jpg\n",
            " 00138530-005_wm_TIF.Jpg\t\t  00212108-011_TIF.Jpg\n",
            " 00138530-012_wm_TIF.Jpg\t\t  00212108-019_TIF.Jpg\n",
            " 00138606-010_wm_TIF.Jpg\t\t  00212114-004_Tuomanen_TIF.Jpg\n",
            " 00138646-024_wm_TIF.Jpg\t\t  00212115-002_TIF.Jpg\n",
            " 00138646-028_wm_TIF.Jpg\t\t  00212115-003_TIF.Jpg\n",
            " 00140172-048_wm_TIF.Jpg\t\t  00212115-003_v2_TIF.Jpg\n",
            " 00140408-002_TIF.Jpg\t\t\t  00212115-008_TIF.Jpg\n",
            " 00140408-003_TIF.Jpg\t\t\t  00212115-010_TIF.Jpg\n",
            " 00140408-037_TIF.Jpg\t\t\t  00212115-016_TIF.Jpg\n",
            " 00141775-004_wm_TIF.Jpg\t\t  00212115-018_TIF.Jpg\n",
            " 00141775-005_wm_TIF.Jpg\t\t  00212115-019_TIF.Jpg\n",
            " 00142116-003_TIF.Jpg\t\t\t  00212115-020_TIF.Jpg\n",
            " 00142116-015_TIF.Jpg\t\t\t  00212115-024_TIF.Jpg\n",
            " 00142116-047_TIF.Jpg\t\t\t  00212115-026_TIF.Jpg\n",
            " 00144617-003_wm_TIF.Jpg\t\t  00212115-027_TIF.Jpg\n",
            " 00144617-012_wm_TIF.Jpg\t\t  00212115-028_TIF.Jpg\n",
            " 00144617-018_wm_TIF.Jpg\t\t  00212115-029_TIF.Jpg\n",
            " 00144617-027_wm_TIF.Jpg\t\t  00212115-037_TIF.Jpg\n",
            " 00144617-028_wm_TIF.Jpg\t\t  00212115-054_TIF.Jpg\n",
            " 00144629-005_wm_TIF.Jpg\t\t  00212115-056_TIF.Jpg\n",
            " 00144629-006_wm_TIF.Jpg\t\t  00212115-057_TIF.Jpg\n",
            " 00144807-010_wm_TIF.Jpg\t\t  00212118-005_TIF.Jpg\n",
            " 00145201-026_wm_TIF.Jpg\t\t  00212118-007_TIF.Jpg\n",
            " 00145201-032_wm_TIF.Jpg\t\t  00212118-014_TIF.Jpg\n",
            " 00145201-034_wm_TIF.Jpg\t\t  00212118-017_TIF.Jpg\n",
            " 00145362-010_wm_TIF.Jpg\t\t  00212118-019_TIF.Jpg\n",
            " 00145362-030_wm_TIF.Jpg\t\t  00212118-020_TIF.Jpg\n",
            " 00145430-003_TIF.Jpg\t\t\t  00212118-022_TIF.Jpg\n",
            " 00145430-013_TIF.Jpg\t\t\t  00212118-031_TIF.Jpg\n",
            " 00145636-058_TIF.Jpg\t\t\t  00212118-032_TIF.Jpg\n",
            " 00145637-011_wm_TIF.Jpg\t\t  00212118-041_TIF.Jpg\n",
            " 00145637-015_wm_TIF.Jpg\t\t  00212118-045_TIF.Jpg\n",
            " 00145711-017_wm_TIF.Jpg\t\t  00212118-058_TIF.Jpg\n",
            " 00145711-018_wm_TIF.Jpg\t\t  00212118-059_TIF.Jpg\n",
            " 00145711-019_wm_TIF.Jpg\t\t  00212309-029_Hakim_TIF.Jpg\n",
            " 00145741-013_wm_TIF.Jpg\t\t  00212416-004_TIF.Jpg\n",
            " 00145741-023_wm_TIF.Jpg\t\t  00212416-006_TIF.Jpg\n",
            " 00145749-014_wm_TIF.Jpg\t\t  00212416-008_TIF.Jpg\n",
            " 00149180-001_wm_TIF.Jpg\t\t  00212416-017_TIF.Jpg\n",
            " 00149395-016_wm_TIF.Jpg\t\t  00212416-020_TIF.Jpg\n",
            " 00149395-019_wm_TIF.Jpg\t\t  00212416-021_TIF.Jpg\n",
            " 00149395-021_wm_TIF.Jpg\t\t  00212430-018_TIF.Jpg\n",
            " 00149395-023_wm_TIF.Jpg\t\t  00212484-014_TIF.Jpg\n",
            " 00149488-079_wm_TIF.Jpg\t\t  00212502-007_TIF.Jpg\n",
            " 00149488-085_wm_TIF.Jpg\t\t  00212601-019_Gajjar_TIF.Jpg\n",
            " 00150656-001_wm_TIF.Jpg\t\t  00212614-001_TIF.Jpg\n",
            " 00150656-003_wm_TIF.Jpg\t\t  00212614-004_TIF.Jpg\n",
            " 00151274-015_wm_TIF.Jpg\t\t  00212614-005_TIF.Jpg\n",
            " 00151728-010_wm_TIF.Jpg\t\t  00212614-006_TIF.Jpg\n",
            " 00151728-012_wm_TIF.Jpg\t\t  00212614-007_TIF.Jpg\n",
            " 00151728-018_wm_TIF.Jpg\t\t  00212614-008_TIF.Jpg\n",
            " 00153267-006_wm_TIF.Jpg\t\t  00212614-011_TIF.Jpg\n",
            " 00153267-014_wm_TIF.Jpg\t\t  00212614-014_TIF.Jpg\n",
            " 00153373-002_wm_TIF.Jpg\t\t  00212625-003_TIF.Jpg\n",
            " 00153373-004_wm_TIF.Jpg\t\t  00212625-007_TIF.Jpg\n",
            " 00153373-010_wm_TIF.Jpg\t\t  00212625-012_TIF.Jpg\n",
            " 00153373-015_wm_TIF.Jpg\t\t  00213011-002_TIF.Jpg\n",
            " 00153382-004_wm_TIF.Jpg\t\t  00213011-013_TIF.Jpg\n",
            " 00153382-005_wm_TIF.Jpg\t\t  00213072-011-V1_TIF.Jpg\n",
            " 00153382-007_wm_TIF.Jpg\t\t  00213072-030_TIF.Jpg\n",
            " 00153382-008_wm_TIF.Jpg\t\t  00213072-049-V1_TIF.Jpg\n",
            " 00153382-009_wm_TIF.Jpg\t\t  00213072-053_TIF.Jpg\n",
            " 00153382-014_wm_TIF.Jpg\t\t  00213072-057_TIF.Jpg\n",
            " 00153382-016_wm_TIF.Jpg\t\t  00213072-060-V2_TIF.Jpg\n",
            " 00153408-003_wm_TIF.Jpg\t\t  00213072-062_TIF.Jpg\n",
            " 00153410-002_wm_TIF.Jpg\t\t  00213072-064_TIF.Jpg\n",
            " 00153410-004_wm_TIF.Jpg\t\t  00213072-075_TIF.Jpg\n",
            " 00153410-006_wm_TIF.Jpg\t\t  00213072-080_TIF.Jpg\n",
            " 00153410-007_wm_TIF.Jpg\t\t  00213072-082-V1_TIF.Jpg\n",
            " 00153441-008_wm_TIF.Jpg\t\t  00213072-090-V1_TIF.Jpg\n",
            " 00154349-005_wm_TIF.Jpg\t\t  00213077-003_TIF.Jpg\n",
            " 00154349-008_wm_TIF.Jpg\t\t  00213077-009_TIF.Jpg\n",
            " 00154401-011_hdr_wm_TIF.Jpg\t\t  00213077-011_TIF.Jpg\n",
            " 00154401-015_wm_TIF.Jpg\t\t  00213077-012_TIF.Jpg\n",
            " 00154401-016_wm_TIF.Jpg\t\t  00213077-013_TIF.Jpg\n",
            " 00154401-040_wm_TIF.Jpg\t\t  00213077-017_TIF.Jpg\n",
            " 00154401-043_wm_TIF.Jpg\t\t  00213077-020_TIF.Jpg\n",
            " 00154401-046_wm_TIF.Jpg\t\t  00213082-037-V1_TIF.Jpg\n",
            " 00154401-051_wm_TIF.Jpg\t\t  00213123-001_TIF.Jpg\n",
            " 00154401-072_wm_TIF.Jpg\t\t  00213123-011_v2_TIF.Jpg\n",
            " 00154401-096_wm_TIF.Jpg\t\t  00213124-010_TIF.Jpg\n",
            " 00154602-015_wm_TIF.Jpg\t\t  00213124-054_TIF.Jpg\n",
            " 00154810-012_hdr_wm_TIF.Jpg\t\t  00213127-002_TIF.Jpg\n",
            " 00154810-030_hdr_wm_TIF.Jpg\t\t  00213127-007_TIF.Jpg\n",
            " 00154810-039_wm_TIF.Jpg\t\t  00213127-008_TIF.Jpg\n",
            " 00154810-042_wm_TIF.Jpg\t\t  00213127-010_TIF.Jpg\n",
            " 00154810-052_wm_TIF.Jpg\t\t  00213127-012_TIF.Jpg\n",
            " 00154810-055_wm_TIF.Jpg\t\t  00213127-017_TIF.Jpg\n",
            " 00154810-056_wm_TIF.Jpg\t\t  00213127-025_TIF.Jpg\n",
            " 00154810-064_wm_TIF.Jpg\t\t  00213127-042_TIF.Jpg\n",
            " 00154810-094_hdr_wm_TIF.Jpg\t\t  00213127-047_TIF.Jpg\n",
            " 00154810-111_wm_TIF.Jpg\t\t  00213127-056_TIF.Jpg\n",
            " 00154810-112_wm_TIF.Jpg\t\t  00213127-062_TIF.Jpg\n",
            " 00154810-164_hdr_wm_TIF.Jpg\t\t  00213127-075_TIF.Jpg\n",
            " 00154810-174_hdr_wm_TIF.Jpg\t\t  00213128-012_TIF.Jpg\n",
            " 00154834-006_34x42_JPG.Jpg\t\t  00213128-022_TIF.Jpg\n",
            " 00154834-006_wm_TIF.Jpg\t\t  00213128-023_TIF.Jpg\n",
            " 00154834-048_wm_TIF.Jpg\t\t  00213128-027_TIF.Jpg\n",
            " 00155956-014_wm_TIF.Jpg\t\t  00213128-033_TIF.Jpg\n",
            " 00155958-004_wm_TIF.Jpg\t\t  00213128-048_TIF.Jpg\n",
            " 00155965-002_wm_TIF.Jpg\t\t  00213128-050_TIF.Jpg\n",
            " 00155965-003_wm_TIF.Jpg\t\t  00213155-005_TIF.Jpg\n",
            " 00155965-012_wm_TIF.Jpg\t\t  00214054-005_TIF.Jpg\n",
            " 00155966-018_wm_TIF.Jpg\t\t  00214054-009_TIF.Jpg\n",
            " 00155966-019_wm_TIF.Jpg\t\t  00214054-017_TIF.Jpg\n",
            " 00156073-002_wm_TIF.Jpg\t\t  00214056-008_TIF.Jpg\n",
            " 00156073-003_wm_TIF.Jpg\t\t  00214056-015_TIF.Jpg\n",
            " 00156073-004_wm_TIF.Jpg\t\t  00214056-018_TIF.Jpg\n",
            " 00156073-006_wm_TIF.Jpg\t\t  00214056-024_TIF.Jpg\n",
            " 00156073-036_wm_TIF.Jpg\t\t  00214056-032_TIF.Jpg\n",
            " 00156073-039_wm_TIF.Jpg\t\t  00214057-014-V1_TIF.Jpg\n",
            " 00156073-066_wm_TIF.Jpg\t\t  00214057-023_TIF.Jpg\n",
            " 00156073-071_wm_TIF.Jpg\t\t  00214059-015-V3_TIF.Jpg\n",
            " 00156073-115_wm_TIF.Jpg\t\t  00214170-010_Downing_TIF.Jpg\n",
            " 00156073-118_wm_TIF.Jpg\t\t  00214366-029-V1_TIF.Jpg\n",
            " 00156073-125_wm_TIF.Jpg\t\t  00214366-054-V1_TIF.Jpg\n",
            " 00156073-159_wm_TIF.Jpg\t\t  00214366-073-V1_TIF.Jpg\n",
            " 00156288-023_wm_TIF.Jpg\t\t  00214366-288-V1_TIF.Jpg\n",
            " 00156355-016_hdr_wm_TIF.Jpg\t\t  00214366-406_TIF.Jpg\n",
            " 00156355-064_wm_TIF.Jpg\t\t  00214366-424-V1_TIF.Jpg\n",
            " 00156840-001_wm_TIF.Jpg\t\t  00214538-007_JPG.Jpg\n",
            " 00156840-003_wm_TIF.Jpg\t\t  00214636-001-V1_TIF.Jpg\n",
            " 00156840-004_hdr_wm_TIF.Jpg\t\t  00214636-003-V1_TIF.Jpg\n",
            " 00156840-016_wm_TIF.Jpg\t\t  00214636-006_TIF.Jpg\n",
            " 00156840-035_hdr_TIF.Jpg\t\t  00214638-011-V1_TIF.Jpg\n",
            " 00156840-057_wm_TIF.Jpg\t\t  00214648-005_TIF.Jpg\n",
            " 00156840-059_wm_TIF.Jpg\t\t  00214999-018_TIF.Jpg\n",
            " 00156840-063_wm_TIF.Jpg\t\t  00215113-019_Memphis_TIF.Jpg\n",
            " 00156840-066_hdr_wm_TIF.Jpg\t\t  00215113-030_Memphis_TIF.Jpg\n",
            " 00156840-086_hdr_wm_TIF.Jpg\t\t  00215113-031_Memphis_TIF.Jpg\n",
            " 00156840-097_wm_TIF.Jpg\t\t  00215113-045_Memphis_TIF.Jpg\n",
            " 00156840-099_wm_TIF.Jpg\t\t  00215113-047_Memphis_TIF.Jpg\n",
            " 00157012-044_wm_TIF.Jpg\t\t  00215113-082_Memphis_TIF.Jpg\n",
            " 00157223-008_wm_TIF.Jpg\t\t  00215113-088_Memphis_TIF.Jpg\n",
            " 00157223-009_wm_TIF.Jpg\t\t  00215113-151_Memphis_TIF.Jpg\n",
            " 00157355-012_wm_TIF.Jpg\t\t  00215113-279_Memphis_TIF.Jpg\n",
            " 00157987-004_wm_TIF.Jpg\t\t  00215113-301_Memphis_TIF.Jpg\n",
            " 00157987-005_wm_TIF.Jpg\t\t  00215113-303_Memphis_TIF.Jpg\n",
            " 00158627-013_wm_TIF.Jpg\t\t  00215113-306_Memphis_TIF.Jpg\n",
            " 00158839-034_wm_TIF.Jpg\t\t  00215113-329_Memphis_TIF.Jpg\n",
            " 00158839-047_wm_TIF.Jpg\t\t  00215113-330_Memphis_TIF.Jpg\n",
            " 00158839-049_wm_TIF.Jpg\t\t  00215113-365_Memphis_TIF.Jpg\n",
            " 00158936-002_wm_TIF.Jpg\t\t  00215113-389_Memphis_TIF.Jpg\n",
            " 00158936-014_wm_TIF.Jpg\t\t  00215113-469_Memphis_TIF.Jpg\n",
            " 00158936-018_wm_TIF.Jpg\t\t  00215113-478_Memphis_TIF.Jpg\n",
            " 00160120-011_wm_TIF.Jpg\t\t  00215113-512_Memphis_TIF.Jpg\n",
            " 00160224-012_wm_TIF.Jpg\t\t  00215113-516_Memphis_TIF.Jpg\n",
            " 00160224-013_wm_TIF.Jpg\t\t  00215310-008_V3_TIF.Jpg\n",
            " 00160356-024_wm_TIF.Jpg\t\t  00215310-016_V2_TIF.Jpg\n",
            " 00160356-025_wm_TIF.Jpg\t\t  00215310-020_V2_TIF.Jpg\n",
            " 00160385-011_wm_TIF.Jpg\t\t  00215311-005_V2_TIF.Jpg\n",
            " 00160385-013_wm_TIF.Jpg\t\t  00215311-006_V2_TIF.Jpg\n",
            " 00160400-002_wm_TIF.Jpg\t\t  00215311-026_V2_TIF.Jpg\n",
            " 00161552-008_wm_TIF.Jpg\t\t  00215311-037_V2_TIF.Jpg\n",
            " 00161552-011_wm_TIF.Jpg\t\t  00215311-044_V2_TIF.Jpg\n",
            " 00161552-013_wm_TIF.Jpg\t\t  00215311-071_V2_TIF.Jpg\n",
            " 00161552-016_wm_TIF.Jpg\t\t  00215311-073_TIF.Jpg\n",
            " 00161552-024_wm_TIF.Jpg\t\t  00215311-090_V2_TIF.Jpg\n",
            " 00161552-040_wm_TIF.Jpg\t\t  00215312-005_V2_TIF.Jpg\n",
            " 00161805-028_TIF.Jpg\t\t\t  00215313-002-V1_TIF.Jpg\n",
            " 00162534-005_wm_TIF.Jpg\t\t  00215313-005_TIF.Jpg\n",
            " 00162534-011_wm_TIF.Jpg\t\t  00215313-006_TIF.Jpg\n",
            " 00162534-013_v2_wm_TIF.Jpg\t\t  00215313-014_TIF.Jpg\n",
            " 00162534-013_wm_TIF.Jpg\t\t  00215313-021_TIF.Jpg\n",
            " 00162534-016_wm_TIF.Jpg\t\t  00215313-028_TIF.Jpg\n",
            " 00162534-019_wm_TIF.Jpg\t\t  00215313-032_TIF.Jpg\n",
            " 00162740-022_wm_TIF.Jpg\t\t  00215313-037-V2_TIF.Jpg\n",
            " 00162838-001_wm_TIF.Jpg\t\t  00215313-046_V2_TIF.Jpg\n",
            " 00162838-003_wm_TIF.Jpg\t\t  00215313-052_V2_TIF.Jpg\n",
            " 00162882-008_wm_TIF.Jpg\t\t  00215313-057-V2_TIF.Jpg\n",
            " 00163987-002_wm_TIF.Jpg\t\t  00215313-085-V4_TIF.Jpg\n",
            " 00163987-009_wm_TIF.Jpg\t\t  00215313-090-V1_TIF.Jpg\n",
            " 00163987-011_wm_TIF.Jpg\t\t  00215314-047-V1_TIF.Jpg\n",
            " 00163987-013_wm_TIF.Jpg\t\t  00215314-056_TIF.Jpg\n",
            " 00163987-015_wm_TIF.Jpg\t\t  00215314-061-V1_TIF.Jpg\n",
            " 00163987-018_wm_TIF.Jpg\t\t  00215616-008-V1_TIF.Jpg\n",
            " 00163987-022_wm_TIF.Jpg\t\t  00215616-013_TIF.Jpg\n",
            " 00163987-023_wm_TIF.Jpg\t\t  00215616-016-V1_TIF.Jpg\n",
            " 00164595-085_wm_TIF.Jpg\t\t  00215883-001_TIF.Jpg\n",
            " 00165606-001_TIF.Jpg\t\t\t  00215883-006_TIF.Jpg\n",
            " 00165606-005_TIF.Jpg\t\t\t  00215883-007_TIF.Jpg\n",
            " 00165606-019_TIF.Jpg\t\t\t  00215883-010_TIF.Jpg\n",
            " 00165606-027_TIF.Jpg\t\t\t  00215883-011_TIF.Jpg\n",
            " 00165627-001_wm_TIF.Jpg\t\t  00215883-015_TIF.Jpg\n",
            " 00165724-003_wm_TIF.Jpg\t\t  00215883-017_TIF.Jpg\n",
            " 00165724-005_wm_TIF.Jpg\t\t  00215883-018_TIF.Jpg\n",
            " 00165725-175_wm_TIF.Jpg\t\t  00215884-011_TIF.Jpg\n",
            " 00165725-262_wm_TIF.Jpg\t\t  00215884-023_TIF.Jpg\n",
            " 00165890-117_wm_TIF.Jpg\t\t  00215884-024-V1_TIF.Jpg\n",
            " 00165890-124_wm_TIF.Jpg\t\t  00215964-016-V1_TIF.Jpg\n",
            " 00166982-007_wm_TIF.Jpg\t\t  00215964-026-V1_TIF.Jpg\n",
            " 00168197-220_wm_TIF.Jpg\t\t  00215964-030-V1_TIF.Jpg\n",
            " 00168503-059_wm_TIF.Jpg\t\t  00215964-036-V1_TIF.Jpg\n",
            " 00168977-010_wm_TIF.Jpg\t\t  00215964-039_TIF.Jpg\n",
            " 00168992-001_wm_TIF.Jpg\t\t  00215964-079-V1_TIF.Jpg\n",
            " 00169070-001_wm_TIF.Jpg\t\t  00215964-080-V1_TIF.Jpg\n",
            " 00170620-008_Williams_wm_TIF.Jpg\t  00215964-081-V1_TIF.Jpg\n",
            " 00170620-013_Cervantes_wm_TIF.Jpg\t  00215964-083-V1_TIF.Jpg\n",
            " 00170620-017_Cervantes_wm_TIF.Jpg\t  00215964-087_TIF.Jpg\n",
            " 00170620-039_Dahn_wm_TIF.Jpg\t\t  00215964-089-V1_TIF.Jpg\n",
            " 00170620-041_Terry_wm_TIF.Jpg\t\t  00215964-094-V1_TIF.Jpg\n",
            " 00170862-001_wm_TIF.Jpg\t\t  00215964-102-V1_TIF.Jpg\n",
            " 00170862-002_wm_TIF.Jpg\t\t  00215964-111-V1_TIF.Jpg\n",
            " 00171103-004_wm_TIF.Jpg\t\t  00215964-150_TIF.Jpg\n",
            " 00171103-008_wm_TIF.Jpg\t\t  00215964-151-V1_TIF.Jpg\n",
            " 00171135-059_wm_TIF.Jpg\t\t  00215964-210-V1_TIF.Jpg\n",
            " 00171135-066_wm_TIF.Jpg\t\t  00215964-215-V1_TIF.Jpg\n",
            " 00171228-020_wm_TIF.Jpg\t\t  00216082-008-V1_TIF.Jpg\n",
            " 00171228-043_wm_TIF.Jpg\t\t  00216082-017_TIF.Jpg\n",
            " 00171228-061_wm_TIF.Jpg\t\t  00216082-020_TIF.Jpg\n",
            " 00171388-006_wm_TIF.Jpg\t\t  00216082-022_TIF.Jpg\n",
            " 00171390-070_wm_TIF.Jpg\t\t  00216082-034-V1_TIF.Jpg\n",
            " 00171390-075_wm_TIF.Jpg\t\t  00216087-001-V1_TIF.Jpg\n",
            " 00171390-081_wm_TIF.Jpg\t\t  00216087-003_TIF.Jpg\n",
            " 00171390-121_cmp_wm_TIF.Jpg\t\t  00216087-009-V1_TIF.Jpg\n",
            " 00171390-122_cmp_wm_TIF.Jpg\t\t  00216087-018-V1_TIF.Jpg\n",
            " 00172117-092_wm_TIF.Jpg\t\t  00216087-020_TIF.Jpg\n",
            " 00172117-093_wm_TIF.Jpg\t\t  00216087-038-V1_TIF.Jpg\n",
            " 00172117-095_wm_TIF.Jpg\t\t  00216087-040-V1_TIF.Jpg\n",
            " 00172464-049_wm_cmp_TIF.Jpg\t\t  00216087-054-V1_TIF.Jpg\n",
            " 00172478-008_wm_TIF.Jpg\t\t  00216087-057-V1_TIF.Jpg\n",
            " 00173144-001_wm_TIF.Jpg\t\t  00216087-059-V1_TIF.Jpg\n",
            " 00173144-003_wm_TIF.Jpg\t\t  00216087-060-V1_TIF.Jpg\n",
            " 00173144-006_wm_TIF.Jpg\t\t  00216087-061-V1_TIF.Jpg\n",
            " 00174280-001_wm_TIF.Jpg\t\t  00216087-066-V1_TIF.Jpg\n",
            " 00174912-082_wm_TIF.Jpg\t\t  00216087-071-V4_TIF.Jpg\n",
            " 00175031-010_wm_TIF.Jpg\t\t  00216087-077-V4_TIF.Jpg\n",
            " 00175140-146_wm_v2_TIF.Jpg\t\t  00216087-079-V1_TIF.Jpg\n",
            " 00175140-165_wm_TIF.Jpg\t\t  00216087-093-V1_TIF.Jpg\n",
            " 00175368-047_wm_TIF.Jpg\t\t  00216087-096-V1_TIF.Jpg\n",
            " 00175382-002_wm_cmp_TIF.Jpg\t\t  00216087-101-V1_TIF.Jpg\n",
            " 00175383-016_v2_wm_TIF.Jpg\t\t  00216097-005_TIF.Jpg\n",
            " 00176046-004_wm_TIF.Jpg\t\t  00216097-013-V2_TIF#01.Jpg\n",
            " 00176095-008_TIF.Jpg\t\t\t  00216097-013-V2_TIF.Jpg\n",
            " 00176095-009_TIF.Jpg\t\t\t  00216097-020-V2_TIF.Jpg\n",
            " 00176323-023_wm_TIF.Jpg\t\t  00216182-019_TIF.Jpg\n",
            " 00176323-024_wm_TIF.Jpg\t\t  00216191-008_TIF.Jpg\n",
            " 00176474-001_TIF.Jpg\t\t\t  00216291-006_JPG.Jpg\n",
            " 00176474-004_wm_TIF.Jpg\t\t  00216322-011_TIF.Jpg\n",
            " 00176474-009_wm_TIF.Jpg\t\t  00216323-021_TIF.Jpg\n",
            " 00176474-010_wm_TIF.Jpg\t\t  00216338-005_TIF.Jpg\n",
            " 00176474-011_wm_TIF.Jpg\t\t  00216408-007_TIF.Jpg\n",
            " 00176934-001_wm_TIF.Jpg\t\t  00216411-020_TIF.Jpg\n",
            " 00176934-002_wm_TIF.Jpg\t\t  00216447-023_JPG.Jpg\n",
            " 00177659-016_wm_TIF.Jpg\t\t  00216507-008-V1_TIF.Jpg\n",
            " 00177659-029_wm_TIF.Jpg\t\t  00216507-017-V1_TIF.Jpg\n",
            " 00177821-173_wm_TIF.Jpg\t\t  00216507-020-V1_TIF.Jpg\n",
            " 00177821-174_wm_TIF.Jpg\t\t  00216507-031-V1_TIF.Jpg\n",
            " 00177821-176_wm_TIF.Jpg\t\t  00216507-034-V1_TIF.Jpg\n",
            " 00178773-008_wm_TIF.Jpg\t\t  00216507-041-V1_TIF.Jpg\n",
            " 00178773-012_wm_TIF.Jpg\t\t  00216507-044-V1_TIF.Jpg\n",
            " 00178773-016_wm_TIF.Jpg\t\t  00216507-045-V1_TIF.Jpg\n",
            " 00178773-017_wm_TIF.Jpg\t\t  00216507-048-V1_TIF.Jpg\n",
            " 00178775-012_wm_TIF.Jpg\t\t  00216507-053-V1_TIF.Jpg\n",
            " 00178775-014_wm_TIF.Jpg\t\t  00216507-056-V1_TIF.Jpg\n",
            " 00178775-031_wm_TIF.Jpg\t\t  00216511-003-V1_TIF.Jpg\n",
            " 00178898-006_wm_TIF.Jpg\t\t  00216511-010-V1_TIF.Jpg\n",
            " 00179007-017_wm_TIF.Jpg\t\t  00216511-027-V1_TIF.Jpg\n",
            " 00179007-024_wm_TIF.Jpg\t\t  00216511-028-V1_TIF.Jpg\n",
            " 00179133-023_wm_TIF.Jpg\t\t  00216511-036-V1_TIF.Jpg\n",
            " 00180808-016_wm_TIF.Jpg\t\t  00216513-010_TIF.Jpg\n",
            " 00182174-022_wm_TIF.Jpg\t\t  00216513-014-V1_TIF.Jpg\n",
            " 00182174-023_wm_TIF.Jpg\t\t  00216563-002_TIF.Jpg\n",
            " 00182184-073_wm_TIF.Jpg\t\t  00216570-005_TIF.Jpg\n",
            " 00182875-009_wm_TIF.Jpg\t\t  10000715-041_TIF.Jpg\n",
            " 00183258-009_wm_TIF.Jpg\t\t  10000761-003_TIF.Jpg\n",
            " 00183263-004_wm_TIF.Jpg\t\t  10000761-007-V1_TIF.Jpg\n",
            " 00183376-013_wm_TIF.Jpg\t\t  10000761-028-V1_TIF.Jpg\n",
            " 00183376-021_wm_TIF.Jpg\t\t  10000761-032_JPG.Jpg\n",
            " 00183376-026_wm_TIF.Jpg\t\t  10000761-034-V1_TIF.Jpg\n",
            " 00183376-034_wm_TIF.Jpg\t\t  10000761-039-V1_TIF.Jpg\n",
            " 00183376-037_wm_TIF.Jpg\t\t  10000761-041-V1_TIF.Jpg\n",
            " 00183376-073_wm_TIF.Jpg\t\t  10000761-042_JPG.Jpg\n",
            " 00183376-076_wm_TIF.Jpg\t\t  10000785-037_JPG.Jpg\n",
            " 00183376-096_wm_cmp_TIF.Jpg\t\t  10000787-005_TIF.Jpg\n",
            " 00183376-097_wm_cmp_TIF.Jpg\t\t  10000806-037_TIF.Jpg\n",
            " 00183560-001_wm_TIF.Jpg\t\t  10001028-047_TIF.Jpg\n",
            " 00183599-009_wm_TIF.Jpg\t\t  10001406-004_TIF.Jpg\n",
            " 00183599-011_wm_TIF.Jpg\t\t  10001677-003-V1_TIF.Jpg\n",
            " 00183599-012_wm_TIF.Jpg\t\t  10001677-006-V1_TIF.Jpg\n",
            " 00183960-067_wm_TIF.Jpg\t\t  10001677-008-V1_TIF.Jpg\n",
            " 00183960-074_wm_TIF.Jpg\t\t  10001677-009-V2_TIF.Jpg\n",
            " 00183960-082_wm_TIF.Jpg\t\t  10001677-019-V1_TIF.Jpg\n",
            " 00184160-001_wm_TIF.Jpg\t\t  10001677-026-V1_TIF.Jpg\n",
            " 00184181-001_TIF.Jpg\t\t\t  10001677-029-V1_TIF.Jpg\n",
            " 00184181-006_TIF.Jpg\t\t\t  10001677-040_TIF.Jpg\n",
            " 00184181-011_TIF.Jpg\t\t\t  10001677-044-V1_TIF.Jpg\n",
            " 00184332-010_wm_TIF.Jpg\t\t  10002065-001-V2_TIF.Jpg\n",
            " 00184332-012_wm_TIF.Jpg\t\t  10002190-004_JPG.Jpg\n",
            " 00184332-027_wm_TIF.Jpg\t\t  10002190-006_JPG.Jpg\n",
            " 00184332-028_wm_TIF.Jpg\t\t  10002190-007_JPG.Jpg\n",
            " 00184936-001_wm_TIF.Jpg\t\t  10002190-013_JPG.Jpg\n",
            " 00184936-016_wm_TIF.Jpg\t\t  10002190-028_JPG.Jpg\n",
            " 00184936-038_wm_TIF.Jpg\t\t  10002190-031_JPG.Jpg\n",
            " 00185123-009_wm_Rock_TIF.Jpg\t\t  10002581-002-V1_TIF.Jpg\n",
            " 00185633-011_wm_TIF.Jpg\t\t  10002581-006-V1_TIF.Jpg\n",
            " 00185633-012_wm_TIF.Jpg\t\t  10002581-015-V1_TIF.Jpg\n",
            " 00186070-156_wm_TIF.Jpg\t\t  10002581-017-V1_TIF.Jpg\n",
            " 00186556-001_wm_TIF.Jpg\t\t  10002581-034-V1_TIF.Jpg\n",
            " 00186682-058_wm_TIF.Jpg\t\t  10002581-035-V1_TIF.Jpg\n",
            " 00186700-018_cmp_wm_TIF.Jpg\t\t  10002581-038-V1_TIF.Jpg\n",
            " 00186700-019_cmp_wm_TIF.Jpg\t\t  10002581-059-V1_TIF.Jpg\n",
            " 00186964-022_wm_TIF.Jpg\t\t  10002581-068-V1_TIF.Jpg\n",
            " 00186964-023_wm_TIF.Jpg\t\t  10002581-071-V1_TIF.Jpg\n",
            " 00186964-024_wm_TIF.Jpg\t\t  10002581-072-V1_TIF.Jpg\n",
            " 00186964-026_wm_TIF.Jpg\t\t  10002581-087-V1_TIF.Jpg\n",
            " 00186964-027_wm_TIF.Jpg\t\t  10002581-088-V1_TIF.Jpg\n",
            " 00186999-019_wm_TIF.Jpg\t\t  10002581-099-V1_TIF.Jpg\n",
            " 00186999-044_wm_TIF.Jpg\t\t  10002581-103-V1_TIF.Jpg\n",
            " 00186999-046_wm_TIF.Jpg\t\t  10002581-109-V1_TIF.Jpg\n",
            " 00187232-009_wm_TIF.Jpg\t\t  10002581-117-V1_TIF.Jpg\n",
            " 00187239-003_wm_TIF.Jpg\t\t  10002581-121-V1_TIF.Jpg\n",
            " 00187239-004_wm_TIF.Jpg\t\t  10002581-127-V1_TIF.Jpg\n",
            " 00187239-006_wm_TIF.Jpg\t\t  10002581-136-V1_TIF.Jpg\n",
            " 00187239-008_wm_TIF.Jpg\t\t  10002581-142-V1_TIF.Jpg\n",
            " 00187239-010_wm_TIF.Jpg\t\t  10002581-147-V1_TIF.Jpg\n",
            " 00187239-014_wm_TIF.Jpg\t\t  10002581-152-V1_TIF.Jpg\n",
            " 00187239-015_wm_TIF.Jpg\t\t  10002581-153-V1_TIF.Jpg\n",
            " 00187239-017_wm_TIF.Jpg\t\t  10002581-156-v1_TIF.Jpg\n",
            " 00187239-018_wm_TIF.Jpg\t\t  10002581-160_TIF.Jpg\n",
            " 00187239-019_wm_TIF.Jpg\t\t  10002581-177-V1_TIF.Jpg\n",
            " 00187239-023_wm_TIF.Jpg\t\t  10002581-185-V1_TIF.Jpg\n",
            " 00187239-025_wm_TIF.Jpg\t\t  10002581-188-V2_TIF.Jpg\n",
            " 00187239-027_wm_TIF.Jpg\t\t  10002581-192-V1_TIF.Jpg\n",
            " 00187239-031_wm_TIF.Jpg\t\t  10002670-124-V1_TIF.Jpg\n",
            " 00187239-033_wm_TIF.Jpg\t\t  10002759-003_TIF.Jpg\n",
            " 00187239-034_wm_TIF.Jpg\t\t  10002759-009-V1_TIF.Jpg\n",
            " 00187239-036_wm_TIF.Jpg\t\t  10002759-018_TIF.Jpg\n",
            " 00187239-037_wm_TIF.Jpg\t\t  10002759-023-V1_TIF.Jpg\n",
            " 00187239-039_wm_TIF.Jpg\t\t  10002759-024_TIF.Jpg\n",
            " 00187239-044_wm_TIF.Jpg\t\t  10002759-025_TIF.Jpg\n",
            " 00187239-048_wm_TIF.Jpg\t\t  10002759-027_TIF.Jpg\n",
            " 00187239-053_wm_TIF.Jpg\t\t  10002759-028_TIF.Jpg\n",
            " 00187249-003_wm_TIF.Jpg\t\t  10002759-030_TIF.Jpg\n",
            " 00187249-005_wm_TIF.Jpg\t\t  10002759-036_TIF.Jpg\n",
            " 00187249-006_wm_TIF.Jpg\t\t  10002759-037_TIF.Jpg\n",
            " 00187249-008_wm_TIF.Jpg\t\t  10002759-038_TIF.Jpg\n",
            " 00187249-009_wm_TIF.Jpg\t\t  10002759-039_TIF.Jpg\n",
            " 00187249-010_wm_TIF.Jpg\t\t  10002759-042_TIF.Jpg\n",
            " 00187249-011_wm_TIF.Jpg\t\t  10002813-001_TIF.Jpg\n",
            " 00187249-017_wm_TIF.Jpg\t\t  10002813-007_TIF.Jpg\n",
            " 00187814-011_wm_TIF.Jpg\t\t  10002813-009_TIF.Jpg\n",
            " 00187814-023_wm_TIF.Jpg\t\t  10002813-012_TIF.Jpg\n",
            " 00187814-032_wm_TIF.Jpg\t\t  10002935-039-V1_TIF.Jpg\n",
            " 00187814-046_wm_TIF.Jpg\t\t  10002935-042-V1_TIF.Jpg\n",
            " 00187814-061_wm_TIF.Jpg\t\t  10002935-047-V1_TIF.Jpg\n",
            " 00187814-065_wm_TIF.Jpg\t\t  10002935-057-V1_TIF.Jpg\n",
            " 00187814-067_wm_TIF.Jpg\t\t  125605-0001-V1_TIF.Jpg\n",
            " 00187814-073_wm_TIF.Jpg\t\t  125605-0002-V1_TIF.Jpg\n",
            " 00187814-074_wm_TIF.Jpg\t\t  125605-0007-V1_TIF.Jpg\n",
            " 00187936-001_wm_TIF.Jpg\t\t  125605-0009-V1_TIF.Jpg\n",
            " 00187936-003_wm_TIF.Jpg\t\t  125605-0010-V1_TIF.Jpg\n",
            " 00187936-005_wm_TIF.Jpg\t\t  125605-0013-V1_TIF.Jpg\n",
            " 00187936-010_wm_TIF.Jpg\t\t  125605-0014-V1_TIF.Jpg\n",
            " 00187936-012_wm_TIF.Jpg\t\t  125605-0015-V1_TIF.Jpg\n",
            " 00187936-019_wm_TIF.Jpg\t\t  125605-0021-V1_TIF.Jpg\n",
            " 00187936-020_wm_TIF.Jpg\t\t  125605-0022-V1_TIF.Jpg\n",
            " 00188001-001_wm_TIF.Jpg\t\t  125605-0026-V1_TIF.Jpg\n",
            " 00188001-016_wm_TIF.Jpg\t\t  125605-0030-V1_TIF.Jpg\n",
            " 00188002-008_wm_TIF.Jpg\t\t  125605-0032-V1_TIF.Jpg\n",
            " 00188013-002_wm_TIF.Jpg\t\t  125605-0033-V1_TIF.Jpg\n",
            " 00188013-003_wm_TIF.Jpg\t\t  125605-0035-V1_TIF.Jpg\n",
            " 00188013-004_wm_TIF.Jpg\t\t  125605-0036-V1_TIF.Jpg\n",
            " 00188126-019_TIF.Jpg\t\t\t  125605-0040-V1_TIF.Jpg\n",
            " 00188126-044_TIF.Jpg\t\t\t  125605-0041-V1_TIF.Jpg\n",
            " 00188126-045_TIF.Jpg\t\t\t  125605-0043-V1_TIF.Jpg\n",
            " 00188126-069_cmp_TIF.Jpg\t\t  125605-0044-V1_TIF.Jpg\n",
            " 00188126-070_cmp_TIF.Jpg\t\t  125605-0045-V1_TIF.Jpg\n",
            " 00188126-071_cmp_TIF.Jpg\t\t  125605-0052-V1_TIF.Jpg\n",
            " 00188126-073_cmp_TIF.Jpg\t\t  125605-0054-V1_TIF.Jpg\n",
            " 00188126-074_cmp_TIF.Jpg\t\t  125605-0055-V1_TIF.Jpg\n",
            " 00188126-075_cmp_TIF.Jpg\t\t  125605-0058-V1_TIF.Jpg\n",
            " 00189260-008_wm_TIF.Jpg\t\t  125605-0059-V1_TIF.Jpg\n",
            " 00189294-003_wm_TIF.Jpg\t\t  125605-0060-V1_TIF.Jpg\n",
            " 00189294-005_wm_TIF.Jpg\t\t  125605-0062-V1_TIF.Jpg\n",
            " 00189294-006_wm_TIF.Jpg\t\t  125605-0063-V1_TIF.Jpg\n",
            " 00189294-009_wm_TIF.Jpg\t\t  125605-0065-V1_TIF.Jpg\n",
            " 00189501-003_TIF.Jpg\t\t\t  125605-0067-V1_TIF.Jpg\n",
            " 00190327-001_wm_TIF.Jpg\t\t  125605-0068-V1_TIF.Jpg\n",
            " 00190693-001_TIF.Jpg\t\t\t  125605-0072-V1_TIF.Jpg\n",
            " 00190693-009_TIF.Jpg\t\t\t  125605-0076-V1_TIF.Jpg\n",
            " 00190693-026_TIF.Jpg\t\t\t  125605-0077-V1_TIF.Jpg\n",
            " 00190693-048_TIF.Jpg\t\t\t  125605-0079-V1_TIF.Jpg\n",
            " 00190693-050_TIF.Jpg\t\t\t  125605-0081-V1_TIF.Jpg\n",
            " 00190693-054_TIF.Jpg\t\t\t  125605-0083-V1_TIF.Jpg\n",
            " 00190693-079_TIF.Jpg\t\t\t  125605-0085-V1_TIF.Jpg\n",
            " 00191517-007_wm_JPG.Jpg\t\t  125605-0086-V1_TIF.Jpg\n",
            " 00191714-007_TIF.Jpg\t\t\t  125605-0088-V1_TIF.Jpg\n",
            " 00191714-013_TIF.Jpg\t\t\t  125605-0089-V1_TIF.Jpg\n",
            " 00191714-020_TIF.Jpg\t\t\t  125605-0090-V1_TIF.Jpg\n",
            " 00191816-001_TIF.Jpg\t\t\t  125605-0097-V1_TIF.Jpg\n",
            " 00192666-010_TIF.Jpg\t\t\t  125605-0098-V1_TIF.Jpg\n",
            " 00192666-018_TIF.Jpg\t\t\t  125605-0099-V1_TIF.Jpg\n",
            " 00192666-020_TIF.Jpg\t\t\t  125605-0100-V1_TIF.Jpg\n",
            " 00192666-022_TIF.Jpg\t\t\t  125605-0102-V1_TIF.Jpg\n",
            " 00192876-025_TIF.Jpg\t\t\t  125605-0104-V1_TIF.Jpg\n",
            " 00192987-019_English_TIF.Jpg\t\t  125605-0107-V1_TIF.Jpg\n",
            " 00193668-001_TIF.Jpg\t\t\t  125605-0109-V1_TIF.Jpg\n",
            " 00193668-011_TIF.Jpg\t\t\t  125605-0110-V1_TIF.Jpg\n",
            " 00193668-012_TIF.Jpg\t\t\t  125605-0111-V1_TIF.Jpg\n",
            " 00193668-015_TIF.Jpg\t\t\t  125605-0113-V1_TIF.Jpg\n",
            " 00193844-043_TIF.Jpg\t\t\t  125605-0114-V1_TIF.Jpg\n",
            " 00194378-018_TIF.Jpg\t\t\t  125605-0116-V1_TIF.Jpg\n",
            " 00194378-019_TIF.Jpg\t\t\t  125605-0121-V1_TIF.Jpg\n",
            " 00194378-021_TIF.Jpg\t\t\t  125605-0122-V1_TIF.Jpg\n",
            " 00194378-028_TIF.Jpg\t\t\t  125605-0126-V1_TIF.Jpg\n",
            " 00194378-031_TIF.Jpg\t\t\t  125605-0127-V1_TIF.Jpg\n",
            " 00194378-032_TIF.Jpg\t\t\t  125605-0132-V1_TIF.Jpg\n",
            " 00194570-013_TIF.Jpg\t\t\t  125605-0133-V1_TIF.Jpg\n",
            " 00194570-014_TIF.Jpg\t\t\t  125605-0135-V1_TIF.Jpg\n",
            " 00194570-015_TIF.Jpg\t\t\t  125605-0138-V1_TIF.Jpg\n",
            " 00194653-008_TIF.Jpg\t\t\t  125605-0140-V1_TIF.Jpg\n",
            " 00194777-053_TIF.Jpg\t\t\t  125605-0143-V1_TIF.Jpg\n",
            " 00194904-006_TIF.Jpg\t\t\t  125605-0144-V1_TIF.Jpg\n",
            " 00194904-007_TIF.Jpg\t\t\t  125605-0146-V1_TIF.Jpg\n",
            " 00195230-011_TIF.Jpg\t\t\t  125605-0148-V1_TIF.Jpg\n",
            " 00195230-017_TIF.Jpg\t\t\t  125605-0151-V1_TIF.Jpg\n",
            " 00195231-017_TIF.Jpg\t\t\t  125605-0152-V1_TIF.Jpg\n",
            " 00195239-009_TIF.Jpg\t\t\t  125605-0154-V1_TIF.Jpg\n",
            " 00195239-021_TIF.Jpg\t\t\t  125605-0155-V1_TIF.Jpg\n",
            " 00195239-026_TIF.Jpg\t\t\t  125605-0157-V1_TIF.Jpg\n",
            " 00195239-028_TIF.Jpg\t\t\t  125605-0158-V1_TIF.Jpg\n",
            " 00195239-052_TIF.Jpg\t\t\t  125605-0159-V1_TIF.Jpg\n",
            " 00195241-001_TIF.Jpg\t\t\t  125605-0160-V1_TIF.Jpg\n",
            " 00195241-004_TIF.Jpg\t\t\t  125605-0162-V1_TIF.Jpg\n",
            " 00195241-006_TIF.Jpg\t\t\t  125605-0165-V1_TIF.Jpg\n",
            " 00195241-007_TIF.Jpg\t\t\t  125605-0166-V1_TIF.Jpg\n",
            " 00195468-006_TIF.Jpg\t\t\t  125605-0167-V1_TIF.Jpg\n",
            " 00195759-012_TIF.Jpg\t\t\t  125605-0171-V1_TIF.Jpg\n",
            " 00195759-014_TIF.Jpg\t\t\t  125605-0173-V1_TIF.Jpg\n",
            " 00195759-016_TIF.Jpg\t\t\t  125605-0176-V1_TIF.Jpg\n",
            " 00195759-017_TIF.Jpg\t\t\t  125605-0177-V1_TIF.Jpg\n",
            " 00195759-020_TIF.Jpg\t\t\t  125605-0181-V1_TIF.Jpg\n",
            " 00195759-039_TIF.Jpg\t\t\t  125605-0184-V1_TIF.Jpg\n",
            " 00195759-040_TIF.Jpg\t\t\t  125605-0185-V1_TIF.Jpg\n",
            " 00195759-048_TIF.Jpg\t\t\t  125605-0186-V1_TIF.Jpg\n",
            " 00195759-056_TIF.Jpg\t\t\t  125605-0188-V1_TIF.Jpg\n",
            " 00195759-058_TIF.Jpg\t\t\t  125605-0189-V1_TIF.Jpg\n",
            " 00195759-095_TIF.Jpg\t\t\t  125605-0190-V1_TIF.Jpg\n",
            " 00195759-099_TIF.Jpg\t\t\t  125605-0197-V1_TIF.Jpg\n",
            " 00195759-104_TIF.Jpg\t\t\t  125605-0198-V1_TIF.Jpg\n",
            " 00195759-106_TIF.Jpg\t\t\t  130302-001-V1_TIF.Jpg\n",
            " 00195759-107_TIF.Jpg\t\t\t  130302-002-V1_TIF.Jpg\n",
            " 00195759-109_TIF.Jpg\t\t\t  130602-003-V1_TIF.Jpg\n",
            " 00195759-119_TIF.Jpg\t\t\t  130602-017-V1_TIF.Jpg\n",
            " 00195759-136_TIF.Jpg\t\t\t  130602-019-V1_TIF.Jpg\n",
            " 00195759-142_TIF.Jpg\t\t\t  130602-023-V1_TIF.Jpg\n",
            " 00195759-145_TIF.Jpg\t\t\t  130602-026-V1_TIF.Jpg\n",
            " 00195759-151_TIF.Jpg\t\t\t  130602-042-V1_TIF.Jpg\n",
            " 00195759-152_TIF.Jpg\t\t\t  130602-043-V1_TIF.Jpg\n",
            " 00195759-158_TIF.Jpg\t\t\t  130802-004-V1_TIF.Jpg\n",
            " 00195759-164_TIF.Jpg\t\t\t  130802-009-V1_TIF.Jpg\n",
            " 00195759-167_TIF.Jpg\t\t\t  130802-011-V1_TIF.Jpg\n",
            " 00195759-173_TIF.Jpg\t\t\t  130802-014-V1_TIF.Jpg\n",
            " 00195759-176_TIF.Jpg\t\t\t  130802-015-V1_TIF.Jpg\n",
            " 00195759-177_TIF.Jpg\t\t\t  130802-016-V1_TIF.Jpg\n",
            " 00195759-182_TIF.Jpg\t\t\t  130802-021-V1_TIF.Jpg\n",
            " 00195759-189_TIF.Jpg\t\t\t  130802-023-V1_TIF.Jpg\n",
            " 00195759-190_TIF.Jpg\t\t\t  130802-024-V1_TIF.Jpg\n",
            " 00195759-192_TIF.Jpg\t\t\t  130802-027-V1_TIF.Jpg\n",
            " 00195759-193_TIF.Jpg\t\t\t  130802-035-V1_TIF.Jpg\n",
            " 00195759-197_TIF.Jpg\t\t\t  130802-038-V1_TIF.Jpg\n",
            " 00195759-201_TIF.Jpg\t\t\t  130802-040-V1_TIF.Jpg\n",
            " 00195759-202_TIF.Jpg\t\t\t  135201-011-V3_TIF.Jpg\n",
            " 00195759-203_TIF.Jpg\t\t\t  135201-015-V4_TIF.Jpg\n",
            " 00195759-208_TIF.Jpg\t\t\t  135201-017-V4_TIF.Jpg\n",
            " 00195759-209_TIF.Jpg\t\t\t  135201-021-V4_TIF.Jpg\n",
            " 00195759-211_TIF.Jpg\t\t\t  14001-032-V1_TIF.Jpg\n",
            " 00195759-212_TIF.Jpg\t\t\t  14001-035-V1_TIF.Jpg\n",
            " 00195759-213_TIF.Jpg\t\t\t  14001-037-V1_TIF.Jpg\n",
            " 00195759-214_TIF.Jpg\t\t\t  14001-050-V1_TIF.Jpg\n",
            " 00195759-215_TIF.Jpg\t\t\t  14001-053-V1_TIF.Jpg\n",
            " 00195759-219_TIF.Jpg\t\t\t  14001-056-V1_TIF.Jpg\n",
            " 00195759-222_TIF.Jpg\t\t\t  14001-083-V1_TIF.Jpg\n",
            " 00195759-223_TIF.Jpg\t\t\t  140401-001-V1_TIF.Jpg\n",
            " 00195759-224_TIF.Jpg\t\t\t  140401-008-V1_TIF.Jpg\n",
            " 00195759-225_TIF.Jpg\t\t\t  140401-009-V1_TIF.Jpg\n",
            " 00195759-233_TIF.Jpg\t\t\t  140401-013-V1_TIF.Jpg\n",
            " 00195759-234_TIF.Jpg\t\t\t  140401-023-V1_TIF.Jpg\n",
            " 00195759-235_TIF.Jpg\t\t\t  140401-026-V1_TIF.Jpg\n",
            " 00195759-236_TIF.Jpg\t\t\t  140401-030-V1_TIF.Jpg\n",
            " 00195759-237_TIF.Jpg\t\t\t  140401-041-V1_TIF.Jpg\n",
            " 00195759-240_TIF.Jpg\t\t\t  140401-059-V1_TIF.Jpg\n",
            " 00195759-241_TIF.Jpg\t\t\t  140401-066-V1_TIF.Jpg\n",
            " 00195759-244_TIF.Jpg\t\t\t  144502-005_TIF.Jpg\n",
            " 00195759-245_TIF.Jpg\t\t\t  144502-020_TIF.Jpg\n",
            " 00195759-246_TIF.Jpg\t\t\t  144502-024_TIF.Jpg\n",
            " 00195759-248_TIF.Jpg\t\t\t  144502-032_TIF.Jpg\n",
            " 00195759-250_TIF.Jpg\t\t\t  144502-034_TIF.Jpg\n",
            " 00195759-251_TIF.Jpg\t\t\t  144502-038_TIF.Jpg\n",
            " 00195759-255_TIF.Jpg\t\t\t  144801-004_TIF.Jpg\n",
            " 00195759-272_TIF.Jpg\t\t\t  144801-111_TIF.Jpg\n",
            " 00195759-276_TIF.Jpg\t\t\t  150003-002-V2_TIF.Jpg\n",
            " 00195759-327_pano_TIF.Jpg\t\t  150003-003-V1_TIF.Jpg\n",
            " 00195759-330_pano_TIF.Jpg\t\t  150003-004-V1_TIF.Jpg\n",
            " 00195759-331_pano_TIF.Jpg\t\t  150003-007-V2_TIF.Jpg\n",
            " 00195759-333_pano_TIF.Jpg\t\t  150003-009-V1_TIF.Jpg\n",
            " 00195759-334_pano_TIF.Jpg\t\t  150003-012-V2_TIF.Jpg\n",
            " 00195759-335_pano_TIF.Jpg\t\t  150003-025-V1_TIF.Jpg\n",
            " 00195767-003_TIF.Jpg\t\t\t  150003-031_TIF.Jpg\n",
            " 00195767-004_TIF.Jpg\t\t\t  150007-001-V1_TIF.Jpg\n",
            " 00195767-005_TIF.Jpg\t\t\t  150007-002-V1_TIF.Jpg\n",
            " 00195767-007_TIF.Jpg\t\t\t  150007-006-V1_TIF.Jpg\n",
            " 00195767-020_TIF.Jpg\t\t\t  150007-007-V1_TIF.Jpg\n",
            " 00195767-023_TIF.Jpg\t\t\t  150007-010-V1_TIF.Jpg\n",
            " 00195767-024_TIF.Jpg\t\t\t  150007-013-V1_TIF.Jpg\n",
            " 00195774-006_TIF.Jpg\t\t\t  150007-015-V1_TIF.Jpg\n",
            " 00195774-007_TIF.Jpg\t\t\t  150007-017-V1_TIF.Jpg\n",
            " 00195852-010_TIF.Jpg\t\t\t  150007-028-V1_TIF.Jpg\n",
            " 00195852-011_TIF.Jpg\t\t\t  150101-004-V2_TIF.Jpg\n",
            " 00195952-022_Schuetz_TIF.Jpg\t\t  150101-012-V1_TIF.Jpg\n",
            " 00196481-002_TIF.Jpg\t\t\t  151104-002-V1_TIF.Jpg\n",
            " 00196492-002_TIF.Jpg\t\t\t  151104-003-V1_TIF.Jpg\n",
            " 00196492-013_TIF.Jpg\t\t\t  151104-006_TIF.Jpg\n",
            " 00196499-012_TIF.Jpg\t\t\t  151104-028-V1_TIF.Jpg\n",
            " 00196499-013_TIF.Jpg\t\t\t  151104-032_TIF.Jpg\n",
            " 00196505-011_TIF.Jpg\t\t\t  151104-038-V1_TIF.Jpg\n",
            " 00196505-027_TIF.Jpg\t\t\t  151104-039-V1_TIF.Jpg\n",
            " 00196505-029_TIF.Jpg\t\t\t  151104-043_TIF.Jpg\n",
            " 00196506-006_TIF.Jpg\t\t\t  151104-048-V1_TIF.Jpg\n",
            " 00196507-001_TIF.Jpg\t\t\t  151104-049_TIF.Jpg\n",
            " 00196507-003_TIF.Jpg\t\t\t  151104-051-V1_TIF.Jpg\n",
            " 00196507-005_TIF.Jpg\t\t\t  151104-054-V1_TIF.Jpg\n",
            " 00196507-010_TIF.Jpg\t\t\t  151104-060-V1_TIF.Jpg\n",
            " 00196507-011_TIF.Jpg\t\t\t  151104-061-V1_TIF.Jpg\n",
            " 00196507-015_TIF.Jpg\t\t\t  151104-063-V1_TIF.Jpg\n",
            " 00196509-008_TIF.Jpg\t\t\t  151104-064-V1_TIF.Jpg\n",
            " 00196537-015_TIF.Jpg\t\t\t  151104-066-V1_TIF.Jpg\n",
            " 00196538-003_TIF.Jpg\t\t\t  151104-068-V1_TIF.Jpg\n",
            " 00196538-004_TIF.Jpg\t\t\t  170501-004-2_TIF.Jpg\n",
            " 00196602-003_TIF.Jpg\t\t\t  177201-002-V1_TIF.Jpg\n",
            " 00196602-004_TIF.Jpg\t\t\t  177201-003-V1_TIF.Jpg\n",
            " 00196602-011_TIF.Jpg\t\t\t  177201-050_TIF.Jpg\n",
            " 00196728-068_cmp_TIF.Jpg\t\t  177201-074-V1_TIF.Jpg\n",
            " 00196748-006_TIF.Jpg\t\t\t  177201-120-V1_TIF.Jpg\n",
            " 00196748-012_TIF.Jpg\t\t\t  177201-136-V1_TIF.Jpg\n",
            " 00196748-031_TIF.Jpg\t\t\t  177201-138-V1_TIF.Jpg\n",
            " 00196750-004_TIF.Jpg\t\t\t  184302-003_JPG.Jpg\n",
            " 00196817-001_TIF.Jpg\t\t\t  185701-001-V1_TIF.Jpg\n",
            " 00196817-002_TIF.Jpg\t\t\t  185701-035-V2_TIF.Jpg\n",
            " 00196817-003_TIF.Jpg\t\t\t  185701-038-V3_TIF.Jpg\n",
            " 00197109-074_TIF.Jpg\t\t\t  186101-037-V2_TIF.Jpg\n",
            " 00197128-031_JPG.Jpg\t\t\t  186101-061-V2_TIF.Jpg\n",
            " 00197240-010_TIF.Jpg\t\t\t  186101-086-V1_TIF.Jpg\n",
            " 00197240-054_TIF.Jpg\t\t\t  186101-107_TIF.Jpg\n",
            " 00197240-069_TIF.Jpg\t\t\t  186101-124-V1_TIF.Jpg\n",
            " 00197724-007_Davidoff_TIF.Jpg\t\t  186501-016_JPG.Jpg\n",
            " 00197724-021_Davidoff_TIF.Jpg\t\t  186501-018_JPG.Jpg\n",
            " 00197862-006_TIF.Jpg\t\t\t  186501-019_JPG.Jpg\n",
            " 00197968-014_TIF.Jpg\t\t\t  193101-009_TIF.Jpg\n",
            " 00197987-001_TIF.Jpg\t\t\t  195701-045_TIF.Jpg\n",
            " 00197987-022_TIF.Jpg\t\t\t  195701-066_TIF.Jpg\n",
            " 00197987-023_TIF.Jpg\t\t\t  195701-067_TIF.Jpg\n",
            " 00198067-011_TIF.Jpg\t\t\t  195701-091_TIF.Jpg\n",
            " 00198073-006_TIF.Jpg\t\t\t  195701-117_TIF.Jpg\n",
            " 00198080-009_Baker_TIF.Jpg\t\t  195701-128_TIF.Jpg\n",
            " 00198151-003_TIF.Jpg\t\t\t  195701-133_TIF.Jpg\n",
            " 00198151-004_TIF.Jpg\t\t\t  195701-148_TIF.Jpg\n",
            " 00198151-016_TIF.Jpg\t\t\t  198101-004-V1_TIF.Jpg\n",
            " 00198172-011_TIF.Jpg\t\t\t  203901-025_TIF.Jpg\n",
            " 00198172-025_TIF.Jpg\t\t\t  203901-026_TIF.Jpg\n",
            " 00198172-027_TIF.Jpg\t\t\t  205302-021-V2_TIF.Jpg\n",
            " 00198172-031_cmp_TIF.Jpg\t\t  209901-001-V1_TIF.Jpg\n",
            " 00198172-033_cmp_TIF.Jpg\t\t  216202-005_TIF.Jpg\n",
            " 00198866-007_Rodriguez-Galindo_TIF.Jpg   216202-026_TIF.Jpg\n",
            " 00198866-018_Rodriguez-Galindo_TIF.Jpg   219801-001_TIF.Jpg\n",
            " 00198881-014_TIF.Jpg\t\t\t  219801-011_TIF.Jpg\n",
            " 00198881-028_TIF.Jpg\t\t\t  219801-017_TIF.Jpg\n",
            " 00198894-079_TIF.Jpg\t\t\t  220304-007-V1_TIF.Jpg\n",
            " 00198959-018_Agulnik_TIF.Jpg\t\t  220701-021_TIF.Jpg\n",
            " 00198973-026_JPG.Jpg\t\t\t  229503-003_JPG.Jpg\n",
            " 00198984-003_Merchant_TIF.Jpg\t\t  233001-003-V1_TIF.Jpg\n",
            " 00198985-001_TIF.Jpg\t\t\t  233001-009-V1_TIF.Jpg\n",
            " 00198985-010_TIF.Jpg\t\t\t  234406-025_TIF.Jpg\n",
            " 00199209-027_Kalodimos_TIF.Jpg\t\t  235506-083_TIF.Jpg\n",
            " 00199428-017_TIF.Jpg\t\t\t  235506-096_TIF.Jpg\n",
            " 00199428-019_TIF.Jpg\t\t\t  235506-102_TIF.Jpg\n",
            " 00199428-024_TIF.Jpg\t\t\t  235506-105_TIF.Jpg\n",
            " 00199428-025_TIF.Jpg\t\t\t  238502-019_TIF.Jpg\n",
            " 00199629-004_Roberts_TIF.Jpg\t\t  239202-009_TIF.Jpg\n",
            " 00199638-034_Ribeiro_TIF.Jpg\t\t  240802-027_TIF.Jpg\n",
            " 00200273-005_TIF.Jpg\t\t\t  240802-028_TIF.Jpg\n",
            " 00200273-008_TIF.Jpg\t\t\t  240802-029_TIF.Jpg\n",
            " 00200273-012_TIF.Jpg\t\t\t  244802-004_TIF.Jpg\n",
            " 00200273-013_TIF.Jpg\t\t\t  244802-007_JPG.Jpg\n",
            " 00200273-014_TIF.Jpg\t\t\t  244802-008_TIF.Jpg\n",
            " 00200273-015_TIF.Jpg\t\t\t  244802-014_TIF.Jpg\n",
            " 00200273-019_TIF.Jpg\t\t\t  244802-023_TIF.Jpg\n",
            " 00200273-027_TIF.Jpg\t\t\t  244802-032_TIF.Jpg\n",
            " 00200273-033_TIF.Jpg\t\t\t  244802-033_TIF.Jpg\n",
            " 00200301-002_TIF.Jpg\t\t\t  244802-056_TIF.Jpg\n",
            " 00200301-004_TIF.Jpg\t\t\t  244802-063_TIF.Jpg\n",
            " 00200301-010_TIF.Jpg\t\t\t  244802-067_TIF.Jpg\n",
            " 00200409-004_TIF.Jpg\t\t\t  244802-070_TIF.Jpg\n",
            " 00200409-007_TIF.Jpg\t\t\t  244802-072_TIF.Jpg\n",
            " 00200409-014_TIF.Jpg\t\t\t  244802-076_TIF.Jpg\n",
            " 00200409-021_TIF.Jpg\t\t\t  244802-086_TIF.Jpg\n",
            " 00200409-023_TIF.Jpg\t\t\t  244802-102_TIF.Jpg\n",
            " 00201051-092_TIF.Jpg\t\t\t  244802-107_TIF.Jpg\n",
            " 00201051-217_TIF.Jpg\t\t\t  244802-110_TIF.Jpg\n",
            " 00201067-002_TIF.Jpg\t\t\t  244802-120_TIF.Jpg\n",
            " 00201067-003_TIF.Jpg\t\t\t  244802-124_TIF.Jpg\n",
            " 00201067-009_TIF.Jpg\t\t\t  244802-127_TIF.Jpg\n",
            " 00201160-001_TIF.Jpg\t\t\t  244802-142_TIF.Jpg\n",
            " 00201160-002_TIF.Jpg\t\t\t  244802-154_TIF.Jpg\n",
            " 00201160-103_TIF.Jpg\t\t\t  244802-162_TIF.Jpg\n",
            " 00201258-016_cmp_TIF.Jpg\t\t  244802-197_TIF.Jpg\n",
            " 00201258-021_cmp_TIF.Jpg\t\t  244802-212_TIF.Jpg\n",
            " 00201258-024_TIF.Jpg\t\t\t  244802-216_TIF.Jpg\n",
            " 00201258-031_cmp_TIF.Jpg\t\t  244802-220_TIF.Jpg\n",
            " 00201258-054_TIF.Jpg\t\t\t  244802-223_TIF.Jpg\n",
            " 00201258-056_cmp_TIF.Jpg\t\t  244802-232_TIF.Jpg\n",
            " 00201258-059_TIF.Jpg\t\t\t  244802-238_TIF.Jpg\n",
            " 00201258-069_TIF.Jpg\t\t\t  244802-253-3_TIF.Jpg\n",
            " 00201389-001_TIF.Jpg\t\t\t  244802-268_TIF.Jpg\n",
            " 00201389-003_TIF.Jpg\t\t\t  244802-277_TIF.Jpg\n",
            " 00201389-004_TIF.Jpg\t\t\t  244802-285_TIF.Jpg\n",
            " 00201389-005_TIF.Jpg\t\t\t  244802-298-2_TIF.Jpg\n",
            " 00201389-010_TIF.Jpg\t\t\t  244802-317_TIF.Jpg\n",
            " 00201389-012_TIF.Jpg\t\t\t  244802-354_TIF.Jpg\n",
            " 00201389-015_TIF.Jpg\t\t\t  244802-355_TIF.Jpg\n",
            " 00201389-018_TIF.Jpg\t\t\t  244802-363_TIF.Jpg\n",
            " 00201431-028_TIF.Jpg\t\t\t  244802-364_TIF.Jpg\n",
            " 00202079-026_TIF.Jpg\t\t\t  244802-387_TIF.Jpg\n",
            " 00202192-002_TIF.Jpg\t\t\t  244802-390_TIF.Jpg\n",
            " 00202192-036_TIF.Jpg\t\t\t  246004-016_TIF.Jpg\n",
            " 00202279-107_v2_TIF.Jpg\t\t  246201-008_TIF.Jpg\n",
            " 00202297-001_TIF.Jpg\t\t\t  248302-009_TIF.Jpg\n",
            " 00202297-003_TIF.Jpg\t\t\t  252104-010_TIF.Jpg\n",
            " 00202297-008_TIF.Jpg\t\t\t  252601-008-V2_TIF.Jpg\n",
            " 00202297-010_TIF.Jpg\t\t\t  252601-011-V2_TIF.Jpg\n",
            " 00202297-034_TIF.Jpg\t\t\t  252601-029-V3_TIF.Jpg\n",
            " 00202297-044_TIF.Jpg\t\t\t  260304-010_TIF.Jpg\n",
            " 00202297-053_TIF.Jpg\t\t\t  262106-003_TIF.Jpg\n",
            " 00202297-056_TIF.Jpg\t\t\t  262402-011-V2_TIF.Jpg\n",
            " 00202297-058_cmp_TIF.Jpg\t\t  262402-022-V2_TIF.Jpg\n",
            " 00202381-001_TIF.Jpg\t\t\t  262402-031-V2_TIF.Jpg\n",
            " 00202381-004_TIF.Jpg\t\t\t  274606-001_TIF.Jpg\n",
            " 00202381-006_TIF.Jpg\t\t\t  276503-001_TIF.Jpg\n",
            " 00202381-007_TIF.Jpg\t\t\t  282004-008_TIF.Jpg\n",
            " 00202381-008_TIF.Jpg\t\t\t  284403-006_TIF.Jpg\n",
            " 00202381-014_TIF.Jpg\t\t\t  287004-005_TIF.Jpg\n",
            " 00202381-016_TIF.Jpg\t\t\t  287203-023_TIF.Jpg\n",
            " 00202381-018_TIF.Jpg\t\t\t  289003-003_JPG.Jpg\n",
            " 00202381-019_TIF.Jpg\t\t\t  291002-018_TIF.Jpg\n",
            " 00202381-020_TIF.Jpg\t\t\t  291902-029_TIF.Jpg\n",
            " 00202381-021_TIF.Jpg\t\t\t  291902-031_TIF.Jpg\n",
            " 00202381-033_cmp_TIF.Jpg\t\t  291902-035_TIF.Jpg\n",
            " 00202381-037_TIF.Jpg\t\t\t  303204-019_TIF.Jpg\n",
            " 00202381-040_TIF.Jpg\t\t\t  303702-006_TIF.Jpg\n",
            " 00202381-041_TIF.Jpg\t\t\t  303704-011_TIF.Jpg\n",
            " 00202381-042_TIF.Jpg\t\t\t  309802-021_TIF.Jpg\n",
            " 00202381-045_TIF.Jpg\t\t\t  311301-011-V9_JPG.Jpg\n",
            " 00202381-048_TIF.Jpg\t\t\t  317201-005-V1_TIF.Jpg\n",
            " 00202381-051_cmp_TIF.Jpg\t\t  317201-010-V1_TIF.Jpg\n",
            " 00202381-053_TIF.Jpg\t\t\t  317201-015-V1_TIF.Jpg\n",
            " 00202381-055_TIF.Jpg\t\t\t  317201-039-V1_TIF.Jpg\n",
            " 00202381-074_TIF.Jpg\t\t\t  317201-041_TIF.Jpg\n",
            " 00202381-082_TIF.Jpg\t\t\t  317201-050-V1_TIF.Jpg\n",
            " 00202381-083_TIF.Jpg\t\t\t  317201-064-V1_TIF.Jpg\n",
            " 00202381-084_cmp_TIF.Jpg\t\t  317201-070-V1_TIF.Jpg\n",
            " 00202381-086_TIF.Jpg\t\t\t  317201-072-V1_TIF.Jpg\n",
            " 00202381-087_cmp_TIF.Jpg\t\t  317201-077-V1_TIF.Jpg\n",
            " 00202381-088_TIF.Jpg\t\t\t  317201-084-V1_TIF.Jpg\n",
            " 00202381-089_TIF.Jpg\t\t\t  317201-093-V1_TIF.Jpg\n",
            " 00202381-090_TIF.Jpg\t\t\t  317201-100-V1_TIF.Jpg\n",
            " 00202381-091_TIF.Jpg\t\t\t  317201-101-V1_TIF.Jpg\n",
            " 00202381-092_TIF.Jpg\t\t\t  317201-106-V1_TIF.Jpg\n",
            " 00202381-093_TIF.Jpg\t\t\t  317201-112-V1_TIF.Jpg\n",
            " 00202381-096_TIF.Jpg\t\t\t  317202-019-V2_TIF.Jpg\n",
            " 00202381-099_TIF.Jpg\t\t\t  317202-029-V1_TIF.Jpg\n",
            " 00202381-104_TIF.Jpg\t\t\t  317202-031-V1_TIF.Jpg\n",
            " 00202381-105_TIF.Jpg\t\t\t  317202-047-V1_TIF.Jpg\n",
            " 00202381-112_TIF.Jpg\t\t\t  317202-051-V1_TIF.Jpg\n",
            " 00202381-114_TIF.Jpg\t\t\t  317202-053-V1_TIF.Jpg\n",
            " 00202381-120_TIF.Jpg\t\t\t  317202-077-V1_TIF.Jpg\n",
            " 00202381-121_TIF.Jpg\t\t\t  317202-078-V2_TIF.Jpg\n",
            " 00202381-122_TIF.Jpg\t\t\t  317202-082_TIF.Jpg\n",
            " 00202381-124_cmp_TIF.Jpg\t\t  317202-086-V1_TIF.Jpg\n",
            " 00202381-125_TIF.Jpg\t\t\t  317202-087-V1_TIF.Jpg\n",
            " 00202381-150_TIF.Jpg\t\t\t  317202-088-V1_TIF.Jpg\n",
            " 00202381-152_TIF.Jpg\t\t\t  317202-092-V1_TIF.Jpg\n",
            " 00202381-153_TIF.Jpg\t\t\t  317202-093-V1_TIF.Jpg\n",
            " 00202381-158_TIF.Jpg\t\t\t  317202-099-V1_TIF.Jpg\n",
            " 00202381-159_TIF.Jpg\t\t\t  317202-101-V1_TIF.Jpg\n",
            " 00202381-161_TIF.Jpg\t\t\t  317202-103-V1_TIF.Jpg\n",
            " 00202381-171_TIF.Jpg\t\t\t  317202-104-V1_TIF.Jpg\n",
            " 00202381-176_pano_TIF.Jpg\t\t  317202-106-V1_TIF.Jpg\n",
            " 00202381-178_pano_TIF.Jpg\t\t  317202-107-V1_TIF.Jpg\n",
            " 00202381-179_pano_TIF.Jpg\t\t  317202-110-V1_TIF.Jpg\n",
            " 00202381-180_pano_TIF.Jpg\t\t  317203-001-V1_TIF.Jpg\n",
            " 00202419-023_cmp_TIF.Jpg\t\t  317203-007-V1_TIF.Jpg\n",
            " 00202419-024_cmp_TIF.Jpg\t\t  317203-027-V1_TIF.Jpg\n",
            " 00202509-022_TIF.Jpg\t\t\t  317203-033-V1_TIF.Jpg\n",
            " 00202509-025_TIF.Jpg\t\t\t  317203-038-V1_TIF.Jpg\n",
            " 00202509-027_TIF.Jpg\t\t\t  317203-045-V2_TIF.Jpg\n",
            " 00202509-084_TIF.Jpg\t\t\t  317203-047-V1_TIF.Jpg\n",
            " 00202509-085_TIF.Jpg\t\t\t  317203-052-V1_TIF.Jpg\n",
            " 00202524-002_TIF.Jpg\t\t\t  317203-054-V1_TIF.Jpg\n",
            " 00202524-010_TIF.Jpg\t\t\t  317203-060-V1_TIF.Jpg\n",
            " 00202524-013_TIF.Jpg\t\t\t  317203-064-V1_TIF.Jpg\n",
            " 00202524-020_TIF.Jpg\t\t\t  317203-074-V1_TIF.Jpg\n",
            " 00202524-034_TIF.Jpg\t\t\t  317203-083-V1_TIF.Jpg\n",
            " 00202524-038_TIF.Jpg\t\t\t  317203-086-V1_TIF.Jpg\n",
            " 00202546-036_Clements_TIF.Jpg\t\t  317203-088-V1_TIF.Jpg\n",
            " 00202638-012_v2_TIF.Jpg\t\t  317203-094-V1_TIF.Jpg\n",
            " 00202638-017_v3_TIF.Jpg\t\t  317203-107-V1_TIF.Jpg\n",
            " 00202638-021_TIF.Jpg\t\t\t  317203-109-V1_TIF.Jpg\n",
            " 00202638-025_TIF.Jpg\t\t\t  317203-120-V1_TIF.Jpg\n",
            " 00202638-026_TIF.Jpg\t\t\t  317203-130-V1_TIF.Jpg\n",
            " 00202638-030_TIF.Jpg\t\t\t  317203-136-V1_TIF.Jpg\n",
            " 00202638-038_TIF.Jpg\t\t\t  317301-001-V1_TIF.Jpg\n",
            " 00202639-190_cmp_TIF.Jpg\t\t  317301-002-V1_TIF.Jpg\n",
            " 00202639-192_cmp_TIF.Jpg\t\t  317301-004-V1_TIF.Jpg\n",
            " 00202639-193_cmp_TIF.Jpg\t\t  317301-016-V1_TIF.Jpg\n",
            " 00202639-195_cmp_TIF.Jpg\t\t  317301-018-V1_TIF.Jpg\n",
            " 00202639-196_cmp_TIF.Jpg\t\t  317301-020-V1_TIF.Jpg\n",
            " 00202639-197_cmp_TIF.Jpg\t\t  317302-007-V2_TIF.Jpg\n",
            " 00202639-201_cmp_TIF.Jpg\t\t  317302-018-V1_TIF.Jpg\n",
            " 00202639-202_cmp_TIF.Jpg\t\t  317302-026-V1_TIF.Jpg\n",
            " 00202639-203_cmp_TIF.Jpg\t\t  317302-030-V2_TIF.Jpg\n",
            " 00202639-206_cmp_TIF.Jpg\t\t  317302-042-V2_TIF.Jpg\n",
            " 00202639-207_cmp_TIF.Jpg\t\t  317302-064_TIF.Jpg\n",
            " 00202639-208_cmp_TIF.Jpg\t\t  317302-075-V2_TIF.Jpg\n",
            " 00202639-210_TIF.Jpg\t\t\t  317302-079-V2_TIF.Jpg\n",
            " 00202639-212_cmp_TIF.Jpg\t\t  317302-083-V3_TIF.Jpg\n",
            " 00202639-212_TIF.Jpg\t\t\t  317302-096_TIF.Jpg\n",
            " 00202639-213_cmp_TIF.Jpg\t\t  317302-097_TIF.Jpg\n",
            " 00202704-012_TIF.Jpg\t\t\t  317302-107-V2_TIF.Jpg\n",
            " 00202729-023_TIF.Jpg\t\t\t  317302-121-V2_TIF.Jpg\n",
            " 00202729-026_TIF.Jpg\t\t\t  317302-130-V3_TIF.Jpg\n",
            " 00202729-034_TIF.Jpg\t\t\t  317302-137-V1_TIF.Jpg\n",
            " 00202735-001_TIF.Jpg\t\t\t  317302-139-V1_TIF.Jpg\n",
            " 00202735-004_TIF.Jpg\t\t\t  317302-143-V2_TIF.Jpg\n",
            " 00202735-005_TIF.Jpg\t\t\t  317302-146-V2_TIF.Jpg\n",
            " 00202735-008_TIF.Jpg\t\t\t  317302-147-V2_TIF.Jpg\n",
            " 00202735-012_TIF.Jpg\t\t\t  317302-153-V2_TIF.Jpg\n",
            " 00202735-014_TIF.Jpg\t\t\t  317302-157-V2_TIF.Jpg\n",
            " 00202735-015_TIF.Jpg\t\t\t  317302-166-V2_TIF.Jpg\n",
            " 00202735-018_TIF.Jpg\t\t\t  317302-188-V1_TIF.Jpg\n",
            " 00202735-019_TIF.Jpg\t\t\t  317302-208-V1_TIF.Jpg\n",
            " 00202735-022_TIF.Jpg\t\t\t  327402-003-V1_TIF.Jpg\n",
            " 00202735-023_TIF.Jpg\t\t\t  327402-005-V1_TIF.Jpg\n",
            " 00202735-035_TIF.Jpg\t\t\t  327402-011_TIF.Jpg\n",
            " 00202735-037_TIF.Jpg\t\t\t  327402-024-V1_TIF.Jpg\n",
            " 00202735-040_TIF.Jpg\t\t\t  327402-029-V1_TIF.Jpg\n",
            " 00202735-045_TIF.Jpg\t\t\t  327402-034-V1_TIF.Jpg\n",
            " 00202735-046_TIF.Jpg\t\t\t  327903-002_TIF.Jpg\n",
            " 00202735-048_TIF.Jpg\t\t\t  327903-003_TIF.Jpg\n",
            " 00202735-049_TIF.Jpg\t\t\t  327903-004_TIF.Jpg\n",
            " 00202735-051_TIF.Jpg\t\t\t  327903-012_TIF.Jpg\n",
            " 00202735-055_JPG.Jpg\t\t\t  327903-013_TIF.Jpg\n",
            " 00202735-055_TIF.Jpg\t\t\t  327903-015_TIF.Jpg\n",
            " 00202735-057_TIF.Jpg\t\t\t  327903-018-V1_TIF.Jpg\n",
            " 00202735-058_TIF.Jpg\t\t\t  340902-002-V1_TIF.Jpg\n",
            " 00202735-059_JPG.Jpg\t\t\t  340902-010-V1_TIF.Jpg\n",
            " 00202735-061_TIF.Jpg\t\t\t  340902-015-V1_TIF.Jpg\n",
            " 00202735-063_TIF.Jpg\t\t\t  340902-016-V1_TIF.Jpg\n",
            " 00202735-067_TIF.Jpg\t\t\t  353104-001-V1_TIF.Jpg\n",
            " 00202735-068_TIF.Jpg\t\t\t  353104-004_TIF.Jpg\n",
            " 00202735-069_TIF.Jpg\t\t\t  dataset.pt\n",
            " 00202735-070_TIF.Jpg\t\t\t  evaluation_results.csv\n",
            " 00202735-072_TIF.Jpg\t\t\t  image_data.json\n",
            " 00202735-073_TIF.Jpg\t\t\t  keyword_bank.json\n",
            " 00202735-077_TIF.Jpg\t\t\t  model.pth\n",
            " 00202735-083_TIF.Jpg\t\t\t  tl_evaluation_results.csv\n",
            " 00202735-084_TIF.Jpg\t\t\t  tl_evaluation_results.gsheet\n",
            " 00202735-085_TIF.Jpg\t\t\t  transfer_evaluation_results.csv\n",
            " 00202735-091_hdr_TIF.Jpg\t\t  transfer_evaluation_results.gsheet\n",
            " 00202744-002_TIF.Jpg\t\t\t 'transfer_evaluation_results_updated (1).gsheet'\n",
            " 00202806-004_TIF.Jpg\t\t\t  transfer_evaluation_results_updated.csv\n",
            " 00202820-013_TIF.Jpg\t\t\t  transfer_evaluation_results_updated.gsheet\n",
            " 00203320-002_TIF.Jpg\n"
          ]
        }
      ],
      "source": [
        "%cd /content/drive/MyDrive/T4SG St Jude/New Assets/\n",
        "!ls"
      ]
    },
    {
      "cell_type": "code",
      "execution_count": null,
      "metadata": {
        "colab": {
          "base_uri": "https://localhost:8080/"
        },
        "id": "0sqBJfi30MRR",
        "outputId": "d7083df4-ccfe-4454-c959-ea42429a87b7"
      },
      "outputs": [
        {
          "name": "stdout",
          "output_type": "stream",
          "text": [
            "Reading package lists... Done\n",
            "Building dependency tree... Done\n",
            "Reading state information... Done\n",
            "Note, selecting 'libimage-exiftool-perl' instead of 'exiftool'\n",
            "libimage-exiftool-perl is already the newest version (12.40+dfsg-1).\n",
            "0 upgraded, 0 newly installed, 0 to remove and 49 not upgraded.\n"
          ]
        }
      ],
      "source": [
        "!apt-get install -y exiftool"
      ]
    },
    {
      "cell_type": "code",
      "execution_count": null,
      "metadata": {
        "colab": {
          "base_uri": "https://localhost:8080/"
        },
        "id": "QNvgJYXp0Xs5",
        "outputId": "1484f7c5-be4a-4606-d4ff-2a1ff09449e8"
      },
      "outputs": [
        {
          "name": "stderr",
          "output_type": "stream",
          "text": [
            "  0%|          | 1/2023 [00:00<15:09,  2.22it/s]"
          ]
        },
        {
          "name": "stdout",
          "output_type": "stream",
          "text": [
            "'Subject'\n"
          ]
        },
        {
          "name": "stderr",
          "output_type": "stream",
          "text": [
            "  0%|          | 5/2023 [00:01<09:56,  3.38it/s]"
          ]
        },
        {
          "name": "stdout",
          "output_type": "stream",
          "text": [
            "'Subject'\n"
          ]
        },
        {
          "name": "stderr",
          "output_type": "stream",
          "text": [
            "  0%|          | 8/2023 [00:02<07:35,  4.43it/s]"
          ]
        },
        {
          "name": "stdout",
          "output_type": "stream",
          "text": [
            "'Subject'\n"
          ]
        },
        {
          "name": "stderr",
          "output_type": "stream",
          "text": [
            "  1%|          | 14/2023 [00:03<05:52,  5.70it/s]"
          ]
        },
        {
          "name": "stdout",
          "output_type": "stream",
          "text": [
            "'Subject'\n",
            "'Subject'\n"
          ]
        },
        {
          "name": "stderr",
          "output_type": "stream",
          "text": [
            "  1%|▏         | 30/2023 [00:05<03:50,  8.66it/s]"
          ]
        },
        {
          "name": "stdout",
          "output_type": "stream",
          "text": [
            "'Subject'\n"
          ]
        },
        {
          "name": "stderr",
          "output_type": "stream",
          "text": [
            "  2%|▏         | 32/2023 [00:51<2:23:25,  4.32s/it]"
          ]
        },
        {
          "name": "stdout",
          "output_type": "stream",
          "text": [
            "'Subject'\n"
          ]
        },
        {
          "name": "stderr",
          "output_type": "stream",
          "text": [
            "  2%|▏         | 35/2023 [00:51<1:21:19,  2.45s/it]"
          ]
        },
        {
          "name": "stdout",
          "output_type": "stream",
          "text": [
            "'Subject'\n"
          ]
        },
        {
          "name": "stderr",
          "output_type": "stream",
          "text": [
            "  2%|▏         | 49/2023 [00:54<08:52,  3.71it/s]"
          ]
        },
        {
          "name": "stdout",
          "output_type": "stream",
          "text": [
            "'Subject'\n"
          ]
        },
        {
          "name": "stderr",
          "output_type": "stream",
          "text": [
            "  3%|▎         | 53/2023 [00:56<08:47,  3.73it/s]"
          ]
        },
        {
          "name": "stdout",
          "output_type": "stream",
          "text": [
            "'Subject'\n"
          ]
        },
        {
          "name": "stderr",
          "output_type": "stream",
          "text": [
            "  7%|▋         | 137/2023 [01:19<06:04,  5.18it/s]"
          ]
        },
        {
          "name": "stdout",
          "output_type": "stream",
          "text": [
            "'Subject'\n"
          ]
        },
        {
          "name": "stderr",
          "output_type": "stream",
          "text": [
            "  8%|▊         | 157/2023 [01:25<10:15,  3.03it/s]"
          ]
        },
        {
          "name": "stdout",
          "output_type": "stream",
          "text": [
            "'Subject'\n"
          ]
        },
        {
          "name": "stderr",
          "output_type": "stream",
          "text": [
            "  8%|▊         | 166/2023 [01:28<11:44,  2.64it/s]"
          ]
        },
        {
          "name": "stdout",
          "output_type": "stream",
          "text": [
            "'Subject'\n"
          ]
        },
        {
          "name": "stderr",
          "output_type": "stream",
          "text": [
            "  9%|▊         | 174/2023 [01:30<06:21,  4.85it/s]"
          ]
        },
        {
          "name": "stdout",
          "output_type": "stream",
          "text": [
            "'Subject'\n"
          ]
        },
        {
          "name": "stderr",
          "output_type": "stream",
          "text": [
            "  9%|▉         | 184/2023 [01:32<06:51,  4.47it/s]"
          ]
        },
        {
          "name": "stdout",
          "output_type": "stream",
          "text": [
            "'Subject'\n"
          ]
        },
        {
          "name": "stderr",
          "output_type": "stream",
          "text": [
            "  9%|▉         | 190/2023 [01:34<06:58,  4.38it/s]"
          ]
        },
        {
          "name": "stdout",
          "output_type": "stream",
          "text": [
            "'Subject'\n"
          ]
        },
        {
          "name": "stderr",
          "output_type": "stream",
          "text": [
            " 10%|▉         | 195/2023 [01:35<08:45,  3.48it/s]"
          ]
        },
        {
          "name": "stdout",
          "output_type": "stream",
          "text": [
            "'Subject'\n"
          ]
        },
        {
          "name": "stderr",
          "output_type": "stream",
          "text": [
            " 10%|▉         | 197/2023 [01:36<08:25,  3.61it/s]"
          ]
        },
        {
          "name": "stdout",
          "output_type": "stream",
          "text": [
            "'Subject'\n"
          ]
        },
        {
          "name": "stderr",
          "output_type": "stream",
          "text": [
            " 11%|█         | 224/2023 [01:44<05:47,  5.17it/s]"
          ]
        },
        {
          "name": "stdout",
          "output_type": "stream",
          "text": [
            "'Subject'\n"
          ]
        },
        {
          "name": "stderr",
          "output_type": "stream",
          "text": [
            " 12%|█▏        | 235/2023 [01:47<09:55,  3.00it/s]"
          ]
        },
        {
          "name": "stdout",
          "output_type": "stream",
          "text": [
            "'Subject'\n"
          ]
        },
        {
          "name": "stderr",
          "output_type": "stream",
          "text": [
            " 12%|█▏        | 241/2023 [01:48<06:02,  4.92it/s]"
          ]
        },
        {
          "name": "stdout",
          "output_type": "stream",
          "text": [
            "'Subject'\n"
          ]
        },
        {
          "name": "stderr",
          "output_type": "stream",
          "text": [
            "\r 12%|█▏        | 242/2023 [01:49<08:00,  3.71it/s]"
          ]
        },
        {
          "name": "stdout",
          "output_type": "stream",
          "text": [
            "'Subject'\n"
          ]
        },
        {
          "name": "stderr",
          "output_type": "stream",
          "text": [
            "\r 12%|█▏        | 243/2023 [01:49<07:41,  3.86it/s]"
          ]
        },
        {
          "name": "stdout",
          "output_type": "stream",
          "text": [
            "'Subject'\n"
          ]
        },
        {
          "name": "stderr",
          "output_type": "stream",
          "text": [
            " 12%|█▏        | 245/2023 [01:50<08:02,  3.68it/s]"
          ]
        },
        {
          "name": "stdout",
          "output_type": "stream",
          "text": [
            "'Subject'\n"
          ]
        },
        {
          "name": "stderr",
          "output_type": "stream",
          "text": [
            " 13%|█▎        | 255/2023 [01:52<06:17,  4.68it/s]"
          ]
        },
        {
          "name": "stdout",
          "output_type": "stream",
          "text": [
            "'Subject'\n"
          ]
        },
        {
          "name": "stderr",
          "output_type": "stream",
          "text": [
            " 13%|█▎        | 258/2023 [01:53<07:41,  3.83it/s]"
          ]
        },
        {
          "name": "stdout",
          "output_type": "stream",
          "text": [
            "'Subject'\n"
          ]
        },
        {
          "name": "stderr",
          "output_type": "stream",
          "text": [
            " 14%|█▍        | 285/2023 [02:00<07:30,  3.86it/s]"
          ]
        },
        {
          "name": "stdout",
          "output_type": "stream",
          "text": [
            "'Subject'\n"
          ]
        },
        {
          "name": "stderr",
          "output_type": "stream",
          "text": [
            " 15%|█▍        | 294/2023 [02:02<06:27,  4.47it/s]"
          ]
        },
        {
          "name": "stdout",
          "output_type": "stream",
          "text": [
            "'Subject'\n"
          ]
        },
        {
          "name": "stderr",
          "output_type": "stream",
          "text": [
            " 15%|█▍        | 298/2023 [02:03<09:36,  2.99it/s]"
          ]
        },
        {
          "name": "stdout",
          "output_type": "stream",
          "text": [
            "'Subject'\n"
          ]
        },
        {
          "name": "stderr",
          "output_type": "stream",
          "text": [
            " 16%|█▌        | 316/2023 [02:08<08:05,  3.51it/s]"
          ]
        },
        {
          "name": "stdout",
          "output_type": "stream",
          "text": [
            "'Subject'\n"
          ]
        },
        {
          "name": "stderr",
          "output_type": "stream",
          "text": [
            " 17%|█▋        | 334/2023 [02:13<06:21,  4.42it/s]"
          ]
        },
        {
          "name": "stdout",
          "output_type": "stream",
          "text": [
            "'Subject'\n"
          ]
        },
        {
          "name": "stderr",
          "output_type": "stream",
          "text": [
            " 17%|█▋        | 351/2023 [02:16<05:04,  5.48it/s]"
          ]
        },
        {
          "name": "stdout",
          "output_type": "stream",
          "text": [
            "'Subject'\n",
            "'Subject'\n"
          ]
        },
        {
          "name": "stderr",
          "output_type": "stream",
          "text": [
            " 19%|█▉        | 385/2023 [02:25<09:28,  2.88it/s]"
          ]
        },
        {
          "name": "stdout",
          "output_type": "stream",
          "text": [
            "'Subject'\n"
          ]
        },
        {
          "name": "stderr",
          "output_type": "stream",
          "text": [
            "\r 19%|█▉        | 386/2023 [02:25<08:52,  3.08it/s]"
          ]
        },
        {
          "name": "stdout",
          "output_type": "stream",
          "text": [
            "'Subject'\n"
          ]
        },
        {
          "name": "stderr",
          "output_type": "stream",
          "text": [
            " 19%|█▉        | 388/2023 [02:26<07:16,  3.75it/s]"
          ]
        },
        {
          "name": "stdout",
          "output_type": "stream",
          "text": [
            "'Subject'\n",
            "'Subject'\n"
          ]
        },
        {
          "name": "stderr",
          "output_type": "stream",
          "text": [
            " 19%|█▉        | 393/2023 [02:27<05:19,  5.10it/s]"
          ]
        },
        {
          "name": "stdout",
          "output_type": "stream",
          "text": [
            "'Subject'\n"
          ]
        },
        {
          "name": "stderr",
          "output_type": "stream",
          "text": [
            " 20%|█▉        | 398/2023 [02:27<04:46,  5.67it/s]"
          ]
        },
        {
          "name": "stdout",
          "output_type": "stream",
          "text": [
            "'Subject'\n"
          ]
        },
        {
          "name": "stderr",
          "output_type": "stream",
          "text": [
            " 20%|██        | 407/2023 [02:29<05:20,  5.05it/s]"
          ]
        },
        {
          "name": "stdout",
          "output_type": "stream",
          "text": [
            "'Subject'\n"
          ]
        },
        {
          "name": "stderr",
          "output_type": "stream",
          "text": [
            " 21%|██        | 416/2023 [02:32<07:11,  3.73it/s]"
          ]
        },
        {
          "name": "stdout",
          "output_type": "stream",
          "text": [
            "'Subject'\n"
          ]
        },
        {
          "name": "stderr",
          "output_type": "stream",
          "text": [
            " 22%|██▏       | 438/2023 [02:39<07:39,  3.45it/s]"
          ]
        },
        {
          "name": "stdout",
          "output_type": "stream",
          "text": [
            "'Subject'\n"
          ]
        },
        {
          "name": "stderr",
          "output_type": "stream",
          "text": [
            " 22%|██▏       | 454/2023 [02:43<05:28,  4.78it/s]"
          ]
        },
        {
          "name": "stdout",
          "output_type": "stream",
          "text": [
            "'Subject'\n"
          ]
        },
        {
          "name": "stderr",
          "output_type": "stream",
          "text": [
            " 23%|██▎       | 458/2023 [02:44<08:29,  3.07it/s]"
          ]
        },
        {
          "name": "stdout",
          "output_type": "stream",
          "text": [
            "'Subject'\n"
          ]
        },
        {
          "name": "stderr",
          "output_type": "stream",
          "text": [
            " 23%|██▎       | 463/2023 [02:45<05:49,  4.47it/s]"
          ]
        },
        {
          "name": "stdout",
          "output_type": "stream",
          "text": [
            "'Subject'\n"
          ]
        },
        {
          "name": "stderr",
          "output_type": "stream",
          "text": [
            " 23%|██▎       | 474/2023 [02:48<06:14,  4.13it/s]"
          ]
        },
        {
          "name": "stdout",
          "output_type": "stream",
          "text": [
            "'Subject'\n"
          ]
        },
        {
          "name": "stderr",
          "output_type": "stream",
          "text": [
            " 24%|██▍       | 486/2023 [02:51<06:06,  4.20it/s]"
          ]
        },
        {
          "name": "stdout",
          "output_type": "stream",
          "text": [
            "'Subject'\n"
          ]
        },
        {
          "name": "stderr",
          "output_type": "stream",
          "text": [
            " 25%|██▍       | 501/2023 [02:55<05:51,  4.33it/s]"
          ]
        },
        {
          "name": "stdout",
          "output_type": "stream",
          "text": [
            "'Subject'\n"
          ]
        },
        {
          "name": "stderr",
          "output_type": "stream",
          "text": [
            " 25%|██▌       | 509/2023 [02:57<06:24,  3.94it/s]"
          ]
        },
        {
          "name": "stdout",
          "output_type": "stream",
          "text": [
            "'Subject'\n"
          ]
        },
        {
          "name": "stderr",
          "output_type": "stream",
          "text": [
            " 26%|██▌       | 516/2023 [02:59<07:11,  3.49it/s]"
          ]
        },
        {
          "name": "stdout",
          "output_type": "stream",
          "text": [
            "'Subject'\n"
          ]
        },
        {
          "name": "stderr",
          "output_type": "stream",
          "text": [
            " 26%|██▌       | 524/2023 [03:01<05:58,  4.18it/s]"
          ]
        },
        {
          "name": "stdout",
          "output_type": "stream",
          "text": [
            "'Subject'\n"
          ]
        },
        {
          "name": "stderr",
          "output_type": "stream",
          "text": [
            " 26%|██▌       | 529/2023 [03:03<06:53,  3.61it/s]"
          ]
        },
        {
          "name": "stdout",
          "output_type": "stream",
          "text": [
            "'Subject'\n"
          ]
        },
        {
          "name": "stderr",
          "output_type": "stream",
          "text": [
            " 26%|██▋       | 532/2023 [03:03<06:10,  4.02it/s]"
          ]
        },
        {
          "name": "stdout",
          "output_type": "stream",
          "text": [
            "'Subject'\n"
          ]
        },
        {
          "name": "stderr",
          "output_type": "stream",
          "text": [
            "\r 26%|██▋       | 533/2023 [03:04<05:45,  4.32it/s]"
          ]
        },
        {
          "name": "stdout",
          "output_type": "stream",
          "text": [
            "'Subject'\n"
          ]
        },
        {
          "name": "stderr",
          "output_type": "stream",
          "text": [
            " 27%|██▋       | 537/2023 [03:05<07:27,  3.32it/s]"
          ]
        },
        {
          "name": "stdout",
          "output_type": "stream",
          "text": [
            "'Subject'\n"
          ]
        },
        {
          "name": "stderr",
          "output_type": "stream",
          "text": [
            " 27%|██▋       | 543/2023 [03:07<06:54,  3.57it/s]"
          ]
        },
        {
          "name": "stdout",
          "output_type": "stream",
          "text": [
            "'Subject'\n"
          ]
        },
        {
          "name": "stderr",
          "output_type": "stream",
          "text": [
            " 27%|██▋       | 546/2023 [03:07<06:46,  3.63it/s]"
          ]
        },
        {
          "name": "stdout",
          "output_type": "stream",
          "text": [
            "'Subject'\n"
          ]
        },
        {
          "name": "stderr",
          "output_type": "stream",
          "text": [
            " 28%|██▊       | 560/2023 [03:11<04:41,  5.21it/s]"
          ]
        },
        {
          "name": "stdout",
          "output_type": "stream",
          "text": [
            "'Subject'\n",
            "'Subject'\n"
          ]
        },
        {
          "name": "stderr",
          "output_type": "stream",
          "text": [
            " 28%|██▊       | 563/2023 [03:11<05:25,  4.49it/s]"
          ]
        },
        {
          "name": "stdout",
          "output_type": "stream",
          "text": [
            "'Subject'\n"
          ]
        },
        {
          "name": "stderr",
          "output_type": "stream",
          "text": [
            " 28%|██▊       | 568/2023 [03:13<09:13,  2.63it/s]"
          ]
        },
        {
          "name": "stdout",
          "output_type": "stream",
          "text": [
            "'Subject'\n"
          ]
        },
        {
          "name": "stderr",
          "output_type": "stream",
          "text": [
            " 28%|██▊       | 576/2023 [03:15<06:09,  3.91it/s]"
          ]
        },
        {
          "name": "stdout",
          "output_type": "stream",
          "text": [
            "'Subject'\n"
          ]
        },
        {
          "name": "stderr",
          "output_type": "stream",
          "text": [
            " 29%|██▉       | 594/2023 [03:20<08:08,  2.92it/s]"
          ]
        },
        {
          "name": "stdout",
          "output_type": "stream",
          "text": [
            "'Subject'\n"
          ]
        },
        {
          "name": "stderr",
          "output_type": "stream",
          "text": [
            " 31%|███       | 622/2023 [03:28<04:20,  5.39it/s]"
          ]
        },
        {
          "name": "stdout",
          "output_type": "stream",
          "text": [
            "'Subject'\n"
          ]
        },
        {
          "name": "stderr",
          "output_type": "stream",
          "text": [
            " 32%|███▏      | 645/2023 [03:33<06:32,  3.52it/s]"
          ]
        },
        {
          "name": "stdout",
          "output_type": "stream",
          "text": [
            "'Subject'\n"
          ]
        },
        {
          "name": "stderr",
          "output_type": "stream",
          "text": [
            " 32%|███▏      | 656/2023 [03:37<06:04,  3.75it/s]"
          ]
        },
        {
          "name": "stdout",
          "output_type": "stream",
          "text": [
            "'Subject'\n"
          ]
        },
        {
          "name": "stderr",
          "output_type": "stream",
          "text": [
            " 33%|███▎      | 671/2023 [03:41<06:18,  3.57it/s]"
          ]
        },
        {
          "name": "stdout",
          "output_type": "stream",
          "text": [
            "'Subject'\n"
          ]
        },
        {
          "name": "stderr",
          "output_type": "stream",
          "text": [
            " 34%|███▍      | 693/2023 [03:47<05:25,  4.09it/s]"
          ]
        },
        {
          "name": "stdout",
          "output_type": "stream",
          "text": [
            "'Subject'\n"
          ]
        },
        {
          "name": "stderr",
          "output_type": "stream",
          "text": [
            " 35%|███▍      | 704/2023 [03:50<06:03,  3.62it/s]"
          ]
        },
        {
          "name": "stdout",
          "output_type": "stream",
          "text": [
            "'Subject'\n"
          ]
        },
        {
          "name": "stderr",
          "output_type": "stream",
          "text": [
            " 35%|███▌      | 715/2023 [03:52<05:14,  4.16it/s]"
          ]
        },
        {
          "name": "stdout",
          "output_type": "stream",
          "text": [
            "'Subject'\n"
          ]
        },
        {
          "name": "stderr",
          "output_type": "stream",
          "text": [
            " 36%|███▌      | 722/2023 [03:54<04:49,  4.49it/s]"
          ]
        },
        {
          "name": "stdout",
          "output_type": "stream",
          "text": [
            "'Subject'\n"
          ]
        },
        {
          "name": "stderr",
          "output_type": "stream",
          "text": [
            " 36%|███▌      | 726/2023 [03:55<04:42,  4.58it/s]"
          ]
        },
        {
          "name": "stdout",
          "output_type": "stream",
          "text": [
            "'Subject'\n"
          ]
        },
        {
          "name": "stderr",
          "output_type": "stream",
          "text": [
            " 36%|███▋      | 737/2023 [03:58<04:54,  4.37it/s]"
          ]
        },
        {
          "name": "stdout",
          "output_type": "stream",
          "text": [
            "'Subject'\n"
          ]
        },
        {
          "name": "stderr",
          "output_type": "stream",
          "text": [
            " 37%|███▋      | 752/2023 [04:01<03:42,  5.71it/s]"
          ]
        },
        {
          "name": "stdout",
          "output_type": "stream",
          "text": [
            "'Subject'\n"
          ]
        },
        {
          "name": "stderr",
          "output_type": "stream",
          "text": [
            " 37%|███▋      | 754/2023 [04:01<03:49,  5.54it/s]"
          ]
        },
        {
          "name": "stdout",
          "output_type": "stream",
          "text": [
            "'Subject'\n"
          ]
        },
        {
          "name": "stderr",
          "output_type": "stream",
          "text": [
            " 37%|███▋      | 758/2023 [04:02<05:43,  3.68it/s]"
          ]
        },
        {
          "name": "stdout",
          "output_type": "stream",
          "text": [
            "'Subject'\n"
          ]
        },
        {
          "name": "stderr",
          "output_type": "stream",
          "text": [
            " 40%|███▉      | 807/2023 [04:15<04:48,  4.21it/s]"
          ]
        },
        {
          "name": "stdout",
          "output_type": "stream",
          "text": [
            "'Subject'\n"
          ]
        },
        {
          "name": "stderr",
          "output_type": "stream",
          "text": [
            " 41%|████      | 825/2023 [04:21<05:26,  3.67it/s]"
          ]
        },
        {
          "name": "stdout",
          "output_type": "stream",
          "text": [
            "'Subject'\n"
          ]
        },
        {
          "name": "stderr",
          "output_type": "stream",
          "text": [
            " 41%|████      | 828/2023 [04:21<04:12,  4.74it/s]"
          ]
        },
        {
          "name": "stdout",
          "output_type": "stream",
          "text": [
            "'Subject'\n"
          ]
        },
        {
          "name": "stderr",
          "output_type": "stream",
          "text": [
            " 41%|████      | 832/2023 [04:22<03:50,  5.16it/s]"
          ]
        },
        {
          "name": "stdout",
          "output_type": "stream",
          "text": [
            "'Subject'\n"
          ]
        },
        {
          "name": "stderr",
          "output_type": "stream",
          "text": [
            " 42%|████▏     | 842/2023 [04:25<04:09,  4.72it/s]"
          ]
        },
        {
          "name": "stdout",
          "output_type": "stream",
          "text": [
            "'Subject'\n"
          ]
        },
        {
          "name": "stderr",
          "output_type": "stream",
          "text": [
            " 43%|████▎     | 861/2023 [04:30<05:04,  3.82it/s]"
          ]
        },
        {
          "name": "stdout",
          "output_type": "stream",
          "text": [
            "'Subject'\n"
          ]
        },
        {
          "name": "stderr",
          "output_type": "stream",
          "text": [
            "\r 43%|████▎     | 862/2023 [04:30<04:27,  4.33it/s]"
          ]
        },
        {
          "name": "stdout",
          "output_type": "stream",
          "text": [
            "'Subject'\n"
          ]
        },
        {
          "name": "stderr",
          "output_type": "stream",
          "text": [
            " 43%|████▎     | 878/2023 [04:34<04:53,  3.90it/s]"
          ]
        },
        {
          "name": "stdout",
          "output_type": "stream",
          "text": [
            "'Subject'\n"
          ]
        },
        {
          "name": "stderr",
          "output_type": "stream",
          "text": [
            "\r 43%|████▎     | 879/2023 [04:35<05:08,  3.70it/s]"
          ]
        },
        {
          "name": "stdout",
          "output_type": "stream",
          "text": [
            "'Subject'\n"
          ]
        },
        {
          "name": "stderr",
          "output_type": "stream",
          "text": [
            " 44%|████▍     | 897/2023 [04:38<03:15,  5.77it/s]"
          ]
        },
        {
          "name": "stdout",
          "output_type": "stream",
          "text": [
            "'Subject'\n"
          ]
        },
        {
          "name": "stderr",
          "output_type": "stream",
          "text": [
            " 44%|████▍     | 900/2023 [04:39<03:24,  5.48it/s]"
          ]
        },
        {
          "name": "stdout",
          "output_type": "stream",
          "text": [
            "'Subject'\n"
          ]
        },
        {
          "name": "stderr",
          "output_type": "stream",
          "text": [
            " 45%|████▍     | 905/2023 [04:40<04:29,  4.14it/s]"
          ]
        },
        {
          "name": "stdout",
          "output_type": "stream",
          "text": [
            "'Subject'\n"
          ]
        },
        {
          "name": "stderr",
          "output_type": "stream",
          "text": [
            " 45%|████▍     | 910/2023 [04:41<04:38,  4.00it/s]"
          ]
        },
        {
          "name": "stdout",
          "output_type": "stream",
          "text": [
            "'Subject'\n"
          ]
        },
        {
          "name": "stderr",
          "output_type": "stream",
          "text": [
            " 45%|████▌     | 913/2023 [04:42<05:47,  3.19it/s]"
          ]
        },
        {
          "name": "stdout",
          "output_type": "stream",
          "text": [
            "'Subject'\n"
          ]
        },
        {
          "name": "stderr",
          "output_type": "stream",
          "text": [
            " 46%|████▌     | 923/2023 [04:45<04:36,  3.98it/s]"
          ]
        },
        {
          "name": "stdout",
          "output_type": "stream",
          "text": [
            "'Subject'\n"
          ]
        },
        {
          "name": "stderr",
          "output_type": "stream",
          "text": [
            " 46%|████▌     | 925/2023 [04:46<04:34,  4.00it/s]"
          ]
        },
        {
          "name": "stdout",
          "output_type": "stream",
          "text": [
            "'Subject'\n"
          ]
        },
        {
          "name": "stderr",
          "output_type": "stream",
          "text": [
            " 48%|████▊     | 979/2023 [05:00<05:36,  3.10it/s]"
          ]
        },
        {
          "name": "stdout",
          "output_type": "stream",
          "text": [
            "'Subject'\n"
          ]
        },
        {
          "name": "stderr",
          "output_type": "stream",
          "text": [
            " 49%|████▉     | 990/2023 [05:04<04:01,  4.27it/s]"
          ]
        },
        {
          "name": "stdout",
          "output_type": "stream",
          "text": [
            "'Subject'\n"
          ]
        },
        {
          "name": "stderr",
          "output_type": "stream",
          "text": [
            " 49%|████▉     | 992/2023 [05:04<03:11,  5.39it/s]"
          ]
        },
        {
          "name": "stdout",
          "output_type": "stream",
          "text": [
            "'Subject'\n"
          ]
        },
        {
          "name": "stderr",
          "output_type": "stream",
          "text": [
            "\r 49%|████▉     | 993/2023 [05:04<03:47,  4.52it/s]"
          ]
        },
        {
          "name": "stdout",
          "output_type": "stream",
          "text": [
            "'Subject'\n"
          ]
        },
        {
          "name": "stderr",
          "output_type": "stream",
          "text": [
            " 49%|████▉     | 995/2023 [05:05<05:18,  3.23it/s]"
          ]
        },
        {
          "name": "stdout",
          "output_type": "stream",
          "text": [
            "'Subject'\n",
            "'Subject'\n"
          ]
        },
        {
          "name": "stderr",
          "output_type": "stream",
          "text": [
            " 49%|████▉     | 997/2023 [05:06<05:18,  3.22it/s]"
          ]
        },
        {
          "name": "stdout",
          "output_type": "stream",
          "text": [
            "'Subject'\n",
            "'Subject'\n"
          ]
        },
        {
          "name": "stderr",
          "output_type": "stream",
          "text": [
            " 49%|████▉     | 1000/2023 [05:06<03:22,  5.06it/s]"
          ]
        },
        {
          "name": "stdout",
          "output_type": "stream",
          "text": [
            "'Subject'\n"
          ]
        },
        {
          "name": "stderr",
          "output_type": "stream",
          "text": [
            " 50%|█████     | 1013/2023 [05:09<03:05,  5.45it/s]"
          ]
        },
        {
          "name": "stdout",
          "output_type": "stream",
          "text": [
            "'Subject'\n"
          ]
        },
        {
          "name": "stderr",
          "output_type": "stream",
          "text": [
            " 50%|█████     | 1021/2023 [05:10<03:30,  4.77it/s]"
          ]
        },
        {
          "name": "stdout",
          "output_type": "stream",
          "text": [
            "'Subject'\n"
          ]
        },
        {
          "name": "stderr",
          "output_type": "stream",
          "text": [
            " 51%|█████     | 1028/2023 [05:12<03:37,  4.58it/s]"
          ]
        },
        {
          "name": "stdout",
          "output_type": "stream",
          "text": [
            "'Subject'\n"
          ]
        },
        {
          "name": "stderr",
          "output_type": "stream",
          "text": [
            " 52%|█████▏    | 1043/2023 [05:16<04:47,  3.40it/s]"
          ]
        },
        {
          "name": "stdout",
          "output_type": "stream",
          "text": [
            "'Subject'\n"
          ]
        },
        {
          "name": "stderr",
          "output_type": "stream",
          "text": [
            " 52%|█████▏    | 1061/2023 [05:21<03:41,  4.34it/s]"
          ]
        },
        {
          "name": "stdout",
          "output_type": "stream",
          "text": [
            "'Subject'\n"
          ]
        },
        {
          "name": "stderr",
          "output_type": "stream",
          "text": [
            " 53%|█████▎    | 1063/2023 [05:21<03:28,  4.61it/s]"
          ]
        },
        {
          "name": "stdout",
          "output_type": "stream",
          "text": [
            "'Subject'\n"
          ]
        },
        {
          "name": "stderr",
          "output_type": "stream",
          "text": [
            " 53%|█████▎    | 1072/2023 [05:23<03:13,  4.91it/s]"
          ]
        },
        {
          "name": "stdout",
          "output_type": "stream",
          "text": [
            "'Subject'\n"
          ]
        },
        {
          "name": "stderr",
          "output_type": "stream",
          "text": [
            "\r 53%|█████▎    | 1073/2023 [05:23<03:04,  5.14it/s]"
          ]
        },
        {
          "name": "stdout",
          "output_type": "stream",
          "text": [
            "'Subject'\n"
          ]
        },
        {
          "name": "stderr",
          "output_type": "stream",
          "text": [
            " 53%|█████▎    | 1076/2023 [05:24<03:28,  4.54it/s]"
          ]
        },
        {
          "name": "stdout",
          "output_type": "stream",
          "text": [
            "'Subject'\n"
          ]
        },
        {
          "name": "stderr",
          "output_type": "stream",
          "text": [
            " 54%|█████▍    | 1093/2023 [05:29<04:47,  3.23it/s]"
          ]
        },
        {
          "name": "stdout",
          "output_type": "stream",
          "text": [
            "'Subject'\n"
          ]
        },
        {
          "name": "stderr",
          "output_type": "stream",
          "text": [
            " 55%|█████▌    | 1113/2023 [05:35<02:52,  5.26it/s]"
          ]
        },
        {
          "name": "stdout",
          "output_type": "stream",
          "text": [
            "'Subject'\n"
          ]
        },
        {
          "name": "stderr",
          "output_type": "stream",
          "text": [
            " 55%|█████▌    | 1115/2023 [05:35<03:47,  3.98it/s]"
          ]
        },
        {
          "name": "stdout",
          "output_type": "stream",
          "text": [
            "'Subject'\n"
          ]
        },
        {
          "name": "stderr",
          "output_type": "stream",
          "text": [
            " 55%|█████▌    | 1120/2023 [05:36<02:49,  5.34it/s]"
          ]
        },
        {
          "name": "stdout",
          "output_type": "stream",
          "text": [
            "'Subject'\n"
          ]
        },
        {
          "name": "stderr",
          "output_type": "stream",
          "text": [
            " 56%|█████▌    | 1135/2023 [05:40<02:37,  5.63it/s]"
          ]
        },
        {
          "name": "stdout",
          "output_type": "stream",
          "text": [
            "'Subject'\n"
          ]
        },
        {
          "name": "stderr",
          "output_type": "stream",
          "text": [
            " 57%|█████▋    | 1147/2023 [05:43<04:35,  3.18it/s]"
          ]
        },
        {
          "name": "stdout",
          "output_type": "stream",
          "text": [
            "'Subject'\n"
          ]
        },
        {
          "name": "stderr",
          "output_type": "stream",
          "text": [
            " 57%|█████▋    | 1149/2023 [05:44<06:06,  2.38it/s]"
          ]
        },
        {
          "name": "stdout",
          "output_type": "stream",
          "text": [
            "'Subject'\n"
          ]
        },
        {
          "name": "stderr",
          "output_type": "stream",
          "text": [
            " 58%|█████▊    | 1168/2023 [05:49<03:09,  4.51it/s]"
          ]
        },
        {
          "name": "stdout",
          "output_type": "stream",
          "text": [
            "'Subject'\n"
          ]
        },
        {
          "name": "stderr",
          "output_type": "stream",
          "text": [
            " 59%|█████▉    | 1193/2023 [05:55<03:06,  4.45it/s]"
          ]
        },
        {
          "name": "stdout",
          "output_type": "stream",
          "text": [
            "'Subject'\n"
          ]
        },
        {
          "name": "stderr",
          "output_type": "stream",
          "text": [
            " 60%|█████▉    | 1209/2023 [05:59<04:00,  3.38it/s]"
          ]
        },
        {
          "name": "stdout",
          "output_type": "stream",
          "text": [
            "'Subject'\n"
          ]
        },
        {
          "name": "stderr",
          "output_type": "stream",
          "text": [
            " 60%|██████    | 1216/2023 [06:01<04:07,  3.27it/s]"
          ]
        },
        {
          "name": "stdout",
          "output_type": "stream",
          "text": [
            "'Subject'\n"
          ]
        },
        {
          "name": "stderr",
          "output_type": "stream",
          "text": [
            " 60%|██████    | 1218/2023 [06:02<03:49,  3.51it/s]"
          ]
        },
        {
          "name": "stdout",
          "output_type": "stream",
          "text": [
            "'Subject'\n"
          ]
        },
        {
          "name": "stderr",
          "output_type": "stream",
          "text": [
            " 60%|██████    | 1222/2023 [06:03<03:19,  4.01it/s]"
          ]
        },
        {
          "name": "stdout",
          "output_type": "stream",
          "text": [
            "'Subject'\n"
          ]
        },
        {
          "name": "stderr",
          "output_type": "stream",
          "text": [
            " 61%|██████▏   | 1240/2023 [06:07<02:56,  4.44it/s]"
          ]
        },
        {
          "name": "stdout",
          "output_type": "stream",
          "text": [
            "'Subject'\n",
            "'Subject'\n"
          ]
        },
        {
          "name": "stderr",
          "output_type": "stream",
          "text": [
            " 63%|██████▎   | 1267/2023 [06:15<02:43,  4.62it/s]"
          ]
        },
        {
          "name": "stdout",
          "output_type": "stream",
          "text": [
            "'Subject'\n"
          ]
        },
        {
          "name": "stderr",
          "output_type": "stream",
          "text": [
            " 63%|██████▎   | 1280/2023 [06:18<02:18,  5.35it/s]"
          ]
        },
        {
          "name": "stdout",
          "output_type": "stream",
          "text": [
            "'Subject'\n",
            "'Subject'\n"
          ]
        },
        {
          "name": "stderr",
          "output_type": "stream",
          "text": [
            " 64%|██████▍   | 1297/2023 [06:22<02:50,  4.27it/s]"
          ]
        },
        {
          "name": "stdout",
          "output_type": "stream",
          "text": [
            "'Subject'\n"
          ]
        },
        {
          "name": "stderr",
          "output_type": "stream",
          "text": [
            " 65%|██████▍   | 1311/2023 [06:26<03:35,  3.30it/s]"
          ]
        },
        {
          "name": "stdout",
          "output_type": "stream",
          "text": [
            "'Subject'\n"
          ]
        },
        {
          "name": "stderr",
          "output_type": "stream",
          "text": [
            " 65%|██████▌   | 1321/2023 [06:29<04:42,  2.49it/s]"
          ]
        },
        {
          "name": "stdout",
          "output_type": "stream",
          "text": [
            "'Subject'\n"
          ]
        },
        {
          "name": "stderr",
          "output_type": "stream",
          "text": [
            " 66%|██████▌   | 1339/2023 [06:34<02:20,  4.88it/s]"
          ]
        },
        {
          "name": "stdout",
          "output_type": "stream",
          "text": [
            "'Subject'\n"
          ]
        },
        {
          "name": "stderr",
          "output_type": "stream",
          "text": [
            " 67%|██████▋   | 1349/2023 [06:37<03:06,  3.62it/s]"
          ]
        },
        {
          "name": "stdout",
          "output_type": "stream",
          "text": [
            "'Subject'\n"
          ]
        },
        {
          "name": "stderr",
          "output_type": "stream",
          "text": [
            " 67%|██████▋   | 1351/2023 [06:37<03:09,  3.54it/s]"
          ]
        },
        {
          "name": "stdout",
          "output_type": "stream",
          "text": [
            "'Subject'\n"
          ]
        },
        {
          "name": "stderr",
          "output_type": "stream",
          "text": [
            " 67%|██████▋   | 1356/2023 [06:38<02:23,  4.66it/s]"
          ]
        },
        {
          "name": "stdout",
          "output_type": "stream",
          "text": [
            "'Subject'\n"
          ]
        },
        {
          "name": "stderr",
          "output_type": "stream",
          "text": [
            " 69%|██████▊   | 1386/2023 [06:46<02:14,  4.72it/s]"
          ]
        },
        {
          "name": "stdout",
          "output_type": "stream",
          "text": [
            "'Subject'\n"
          ]
        },
        {
          "name": "stderr",
          "output_type": "stream",
          "text": [
            " 69%|██████▊   | 1389/2023 [06:47<02:21,  4.50it/s]"
          ]
        },
        {
          "name": "stdout",
          "output_type": "stream",
          "text": [
            "'Subject'\n"
          ]
        },
        {
          "name": "stderr",
          "output_type": "stream",
          "text": [
            " 69%|██████▉   | 1394/2023 [06:48<02:17,  4.56it/s]"
          ]
        },
        {
          "name": "stdout",
          "output_type": "stream",
          "text": [
            "'Subject'\n"
          ]
        },
        {
          "name": "stderr",
          "output_type": "stream",
          "text": [
            " 69%|██████▉   | 1402/2023 [06:50<02:17,  4.53it/s]"
          ]
        },
        {
          "name": "stdout",
          "output_type": "stream",
          "text": [
            "'Subject'\n"
          ]
        },
        {
          "name": "stderr",
          "output_type": "stream",
          "text": [
            " 70%|██████▉   | 1406/2023 [06:51<02:08,  4.81it/s]"
          ]
        },
        {
          "name": "stdout",
          "output_type": "stream",
          "text": [
            "'Subject'\n"
          ]
        },
        {
          "name": "stderr",
          "output_type": "stream",
          "text": [
            " 70%|███████   | 1422/2023 [06:56<03:49,  2.61it/s]"
          ]
        },
        {
          "name": "stdout",
          "output_type": "stream",
          "text": [
            "'Subject'\n"
          ]
        },
        {
          "name": "stderr",
          "output_type": "stream",
          "text": [
            " 71%|███████   | 1432/2023 [06:59<02:40,  3.68it/s]"
          ]
        },
        {
          "name": "stdout",
          "output_type": "stream",
          "text": [
            "'Subject'\n"
          ]
        },
        {
          "name": "stderr",
          "output_type": "stream",
          "text": [
            " 71%|███████   | 1441/2023 [07:01<02:43,  3.56it/s]"
          ]
        },
        {
          "name": "stdout",
          "output_type": "stream",
          "text": [
            "'Subject'\n"
          ]
        },
        {
          "name": "stderr",
          "output_type": "stream",
          "text": [
            " 72%|███████▏  | 1460/2023 [07:06<02:36,  3.59it/s]"
          ]
        },
        {
          "name": "stdout",
          "output_type": "stream",
          "text": [
            "'Subject'\n"
          ]
        },
        {
          "name": "stderr",
          "output_type": "stream",
          "text": [
            " 73%|███████▎  | 1470/2023 [07:10<03:18,  2.78it/s]"
          ]
        },
        {
          "name": "stdout",
          "output_type": "stream",
          "text": [
            "'Subject'\n"
          ]
        },
        {
          "name": "stderr",
          "output_type": "stream",
          "text": [
            " 73%|███████▎  | 1474/2023 [07:11<02:17,  4.00it/s]"
          ]
        },
        {
          "name": "stdout",
          "output_type": "stream",
          "text": [
            "'Subject'\n"
          ]
        },
        {
          "name": "stderr",
          "output_type": "stream",
          "text": [
            " 74%|███████▍  | 1493/2023 [07:16<02:23,  3.68it/s]"
          ]
        },
        {
          "name": "stdout",
          "output_type": "stream",
          "text": [
            "'Subject'\n"
          ]
        },
        {
          "name": "stderr",
          "output_type": "stream",
          "text": [
            " 74%|███████▍  | 1495/2023 [07:17<02:18,  3.80it/s]"
          ]
        },
        {
          "name": "stdout",
          "output_type": "stream",
          "text": [
            "'Subject'\n"
          ]
        },
        {
          "name": "stderr",
          "output_type": "stream",
          "text": [
            " 74%|███████▍  | 1502/2023 [07:19<02:36,  3.33it/s]"
          ]
        },
        {
          "name": "stdout",
          "output_type": "stream",
          "text": [
            "'Subject'\n"
          ]
        },
        {
          "name": "stderr",
          "output_type": "stream",
          "text": [
            "\r 74%|███████▍  | 1503/2023 [07:19<02:14,  3.88it/s]"
          ]
        },
        {
          "name": "stdout",
          "output_type": "stream",
          "text": [
            "'Subject'\n"
          ]
        },
        {
          "name": "stderr",
          "output_type": "stream",
          "text": [
            " 75%|███████▍  | 1510/2023 [07:21<02:14,  3.81it/s]"
          ]
        },
        {
          "name": "stdout",
          "output_type": "stream",
          "text": [
            "'Subject'\n"
          ]
        },
        {
          "name": "stderr",
          "output_type": "stream",
          "text": [
            " 75%|███████▍  | 1513/2023 [07:22<02:36,  3.26it/s]"
          ]
        },
        {
          "name": "stdout",
          "output_type": "stream",
          "text": [
            "'Subject'\n"
          ]
        },
        {
          "name": "stderr",
          "output_type": "stream",
          "text": [
            " 76%|███████▌  | 1528/2023 [07:27<02:52,  2.87it/s]"
          ]
        },
        {
          "name": "stdout",
          "output_type": "stream",
          "text": [
            "'Subject'\n"
          ]
        },
        {
          "name": "stderr",
          "output_type": "stream",
          "text": [
            " 76%|███████▌  | 1533/2023 [07:29<02:27,  3.33it/s]"
          ]
        },
        {
          "name": "stdout",
          "output_type": "stream",
          "text": [
            "'Subject'\n"
          ]
        },
        {
          "name": "stderr",
          "output_type": "stream",
          "text": [
            " 76%|███████▌  | 1539/2023 [07:30<01:41,  4.77it/s]"
          ]
        },
        {
          "name": "stdout",
          "output_type": "stream",
          "text": [
            "'Subject'\n"
          ]
        },
        {
          "name": "stderr",
          "output_type": "stream",
          "text": [
            " 78%|███████▊  | 1571/2023 [07:38<02:56,  2.57it/s]"
          ]
        },
        {
          "name": "stdout",
          "output_type": "stream",
          "text": [
            "'Subject'\n"
          ]
        },
        {
          "name": "stderr",
          "output_type": "stream",
          "text": [
            " 79%|███████▊  | 1590/2023 [07:44<01:56,  3.72it/s]"
          ]
        },
        {
          "name": "stdout",
          "output_type": "stream",
          "text": [
            "'Subject'\n"
          ]
        },
        {
          "name": "stderr",
          "output_type": "stream",
          "text": [
            "\r 79%|███████▊  | 1591/2023 [07:44<02:17,  3.15it/s]"
          ]
        },
        {
          "name": "stdout",
          "output_type": "stream",
          "text": [
            "'Subject'\n"
          ]
        },
        {
          "name": "stderr",
          "output_type": "stream",
          "text": [
            " 80%|███████▉  | 1613/2023 [07:50<02:31,  2.71it/s]"
          ]
        },
        {
          "name": "stdout",
          "output_type": "stream",
          "text": [
            "'Subject'\n"
          ]
        },
        {
          "name": "stderr",
          "output_type": "stream",
          "text": [
            " 81%|████████  | 1631/2023 [07:55<01:21,  4.79it/s]"
          ]
        },
        {
          "name": "stdout",
          "output_type": "stream",
          "text": [
            "'Subject'\n"
          ]
        },
        {
          "name": "stderr",
          "output_type": "stream",
          "text": [
            " 81%|████████  | 1636/2023 [07:56<01:13,  5.30it/s]"
          ]
        },
        {
          "name": "stdout",
          "output_type": "stream",
          "text": [
            "'Subject'\n"
          ]
        },
        {
          "name": "stderr",
          "output_type": "stream",
          "text": [
            " 81%|████████  | 1640/2023 [07:57<01:13,  5.18it/s]"
          ]
        },
        {
          "name": "stdout",
          "output_type": "stream",
          "text": [
            "'Subject'\n"
          ]
        },
        {
          "name": "stderr",
          "output_type": "stream",
          "text": [
            " 81%|████████▏ | 1645/2023 [07:58<01:34,  4.00it/s]"
          ]
        },
        {
          "name": "stdout",
          "output_type": "stream",
          "text": [
            "'Subject'\n"
          ]
        },
        {
          "name": "stderr",
          "output_type": "stream",
          "text": [
            " 82%|████████▏ | 1657/2023 [08:00<01:04,  5.70it/s]"
          ]
        },
        {
          "name": "stdout",
          "output_type": "stream",
          "text": [
            "'Subject'\n"
          ]
        },
        {
          "name": "stderr",
          "output_type": "stream",
          "text": [
            " 82%|████████▏ | 1663/2023 [08:02<01:19,  4.52it/s]"
          ]
        },
        {
          "name": "stdout",
          "output_type": "stream",
          "text": [
            "'Subject'\n"
          ]
        },
        {
          "name": "stderr",
          "output_type": "stream",
          "text": [
            " 83%|████████▎ | 1669/2023 [08:04<01:31,  3.88it/s]"
          ]
        },
        {
          "name": "stdout",
          "output_type": "stream",
          "text": [
            "'Subject'\n"
          ]
        },
        {
          "name": "stderr",
          "output_type": "stream",
          "text": [
            " 83%|████████▎ | 1681/2023 [08:07<01:27,  3.92it/s]"
          ]
        },
        {
          "name": "stdout",
          "output_type": "stream",
          "text": [
            "'Subject'\n"
          ]
        },
        {
          "name": "stderr",
          "output_type": "stream",
          "text": [
            " 83%|████████▎ | 1683/2023 [08:08<01:38,  3.47it/s]"
          ]
        },
        {
          "name": "stdout",
          "output_type": "stream",
          "text": [
            "'Subject'\n"
          ]
        },
        {
          "name": "stderr",
          "output_type": "stream",
          "text": [
            " 83%|████████▎ | 1686/2023 [08:09<02:01,  2.76it/s]"
          ]
        },
        {
          "name": "stdout",
          "output_type": "stream",
          "text": [
            "'Subject'\n"
          ]
        },
        {
          "name": "stderr",
          "output_type": "stream",
          "text": [
            " 84%|████████▍ | 1706/2023 [08:14<01:09,  4.53it/s]"
          ]
        },
        {
          "name": "stdout",
          "output_type": "stream",
          "text": [
            "'Subject'\n"
          ]
        },
        {
          "name": "stderr",
          "output_type": "stream",
          "text": [
            " 86%|████████▌ | 1735/2023 [08:23<01:45,  2.73it/s]"
          ]
        },
        {
          "name": "stdout",
          "output_type": "stream",
          "text": [
            "'Subject'\n"
          ]
        },
        {
          "name": "stderr",
          "output_type": "stream",
          "text": [
            " 86%|████████▌ | 1744/2023 [08:25<00:54,  5.14it/s]"
          ]
        },
        {
          "name": "stdout",
          "output_type": "stream",
          "text": [
            "'Subject'\n"
          ]
        },
        {
          "name": "stderr",
          "output_type": "stream",
          "text": [
            " 86%|████████▋ | 1746/2023 [08:25<00:54,  5.12it/s]"
          ]
        },
        {
          "name": "stdout",
          "output_type": "stream",
          "text": [
            "'Subject'\n",
            "'Subject'\n"
          ]
        },
        {
          "name": "stderr",
          "output_type": "stream",
          "text": [
            "\r 86%|████████▋ | 1747/2023 [08:25<00:53,  5.18it/s]"
          ]
        },
        {
          "name": "stdout",
          "output_type": "stream",
          "text": [
            "'Subject'\n"
          ]
        },
        {
          "name": "stderr",
          "output_type": "stream",
          "text": [
            " 87%|████████▋ | 1752/2023 [08:27<01:00,  4.45it/s]"
          ]
        },
        {
          "name": "stdout",
          "output_type": "stream",
          "text": [
            "'Subject'\n"
          ]
        },
        {
          "name": "stderr",
          "output_type": "stream",
          "text": [
            " 87%|████████▋ | 1754/2023 [08:27<00:52,  5.15it/s]"
          ]
        },
        {
          "name": "stdout",
          "output_type": "stream",
          "text": [
            "'Subject'\n",
            "'Subject'\n"
          ]
        },
        {
          "name": "stderr",
          "output_type": "stream",
          "text": [
            " 87%|████████▋ | 1763/2023 [08:29<01:08,  3.82it/s]"
          ]
        },
        {
          "name": "stdout",
          "output_type": "stream",
          "text": [
            "'Subject'\n"
          ]
        },
        {
          "name": "stderr",
          "output_type": "stream",
          "text": [
            " 88%|████████▊ | 1771/2023 [08:31<01:01,  4.12it/s]"
          ]
        },
        {
          "name": "stdout",
          "output_type": "stream",
          "text": [
            "'Subject'\n"
          ]
        },
        {
          "name": "stderr",
          "output_type": "stream",
          "text": [
            " 88%|████████▊ | 1779/2023 [08:33<01:12,  3.38it/s]"
          ]
        },
        {
          "name": "stdout",
          "output_type": "stream",
          "text": [
            "'Subject'\n"
          ]
        },
        {
          "name": "stderr",
          "output_type": "stream",
          "text": [
            " 88%|████████▊ | 1786/2023 [08:36<01:29,  2.64it/s]"
          ]
        },
        {
          "name": "stdout",
          "output_type": "stream",
          "text": [
            "'Subject'\n"
          ]
        },
        {
          "name": "stderr",
          "output_type": "stream",
          "text": [
            " 89%|████████▉ | 1797/2023 [08:38<00:51,  4.40it/s]"
          ]
        },
        {
          "name": "stdout",
          "output_type": "stream",
          "text": [
            "'Subject'\n"
          ]
        },
        {
          "name": "stderr",
          "output_type": "stream",
          "text": [
            " 89%|████████▉ | 1807/2023 [08:41<00:57,  3.73it/s]"
          ]
        },
        {
          "name": "stdout",
          "output_type": "stream",
          "text": [
            "'Subject'\n"
          ]
        },
        {
          "name": "stderr",
          "output_type": "stream",
          "text": [
            " 90%|████████▉ | 1818/2023 [08:44<00:42,  4.80it/s]"
          ]
        },
        {
          "name": "stdout",
          "output_type": "stream",
          "text": [
            "'Subject'\n"
          ]
        },
        {
          "name": "stderr",
          "output_type": "stream",
          "text": [
            " 90%|█████████ | 1822/2023 [08:44<00:37,  5.30it/s]"
          ]
        },
        {
          "name": "stdout",
          "output_type": "stream",
          "text": [
            "'Subject'\n"
          ]
        },
        {
          "name": "stderr",
          "output_type": "stream",
          "text": [
            " 90%|█████████ | 1826/2023 [08:45<00:39,  4.98it/s]"
          ]
        },
        {
          "name": "stdout",
          "output_type": "stream",
          "text": [
            "'Subject'\n"
          ]
        },
        {
          "name": "stderr",
          "output_type": "stream",
          "text": [
            " 91%|█████████▏| 1849/2023 [08:52<00:35,  4.88it/s]"
          ]
        },
        {
          "name": "stdout",
          "output_type": "stream",
          "text": [
            "'Subject'\n"
          ]
        },
        {
          "name": "stderr",
          "output_type": "stream",
          "text": [
            " 92%|█████████▏| 1853/2023 [08:53<00:41,  4.08it/s]"
          ]
        },
        {
          "name": "stdout",
          "output_type": "stream",
          "text": [
            "'Subject'\n"
          ]
        },
        {
          "name": "stderr",
          "output_type": "stream",
          "text": [
            " 92%|█████████▏| 1858/2023 [08:54<00:44,  3.69it/s]"
          ]
        },
        {
          "name": "stdout",
          "output_type": "stream",
          "text": [
            "'Subject'\n"
          ]
        },
        {
          "name": "stderr",
          "output_type": "stream",
          "text": [
            " 92%|█████████▏| 1871/2023 [08:58<00:39,  3.85it/s]"
          ]
        },
        {
          "name": "stdout",
          "output_type": "stream",
          "text": [
            "'Subject'\n"
          ]
        },
        {
          "name": "stderr",
          "output_type": "stream",
          "text": [
            " 93%|█████████▎| 1873/2023 [08:58<00:31,  4.75it/s]"
          ]
        },
        {
          "name": "stdout",
          "output_type": "stream",
          "text": [
            "'Subject'\n"
          ]
        },
        {
          "name": "stderr",
          "output_type": "stream",
          "text": [
            " 94%|█████████▎| 1892/2023 [09:04<00:47,  2.76it/s]"
          ]
        },
        {
          "name": "stdout",
          "output_type": "stream",
          "text": [
            "'Subject'\n"
          ]
        },
        {
          "name": "stderr",
          "output_type": "stream",
          "text": [
            " 94%|█████████▍| 1909/2023 [09:08<00:22,  5.16it/s]"
          ]
        },
        {
          "name": "stdout",
          "output_type": "stream",
          "text": [
            "'Subject'\n"
          ]
        },
        {
          "name": "stderr",
          "output_type": "stream",
          "text": [
            " 95%|█████████▍| 1914/2023 [09:09<00:27,  3.93it/s]"
          ]
        },
        {
          "name": "stdout",
          "output_type": "stream",
          "text": [
            "'Subject'\n",
            "'Subject'\n"
          ]
        },
        {
          "name": "stderr",
          "output_type": "stream",
          "text": [
            " 96%|█████████▌| 1941/2023 [09:17<00:25,  3.16it/s]"
          ]
        },
        {
          "name": "stdout",
          "output_type": "stream",
          "text": [
            "'Subject'\n"
          ]
        },
        {
          "name": "stderr",
          "output_type": "stream",
          "text": [
            " 96%|█████████▋| 1950/2023 [09:19<00:18,  3.88it/s]"
          ]
        },
        {
          "name": "stdout",
          "output_type": "stream",
          "text": [
            "'Subject'\n",
            "'Subject'\n"
          ]
        },
        {
          "name": "stderr",
          "output_type": "stream",
          "text": [
            " 96%|█████████▋| 1952/2023 [09:20<00:16,  4.38it/s]"
          ]
        },
        {
          "name": "stdout",
          "output_type": "stream",
          "text": [
            "'Subject'\n"
          ]
        },
        {
          "name": "stderr",
          "output_type": "stream",
          "text": [
            " 97%|█████████▋| 1962/2023 [09:22<00:12,  4.78it/s]"
          ]
        },
        {
          "name": "stdout",
          "output_type": "stream",
          "text": [
            "'Subject'\n"
          ]
        },
        {
          "name": "stderr",
          "output_type": "stream",
          "text": [
            " 97%|█████████▋| 1964/2023 [09:22<00:11,  5.22it/s]"
          ]
        },
        {
          "name": "stdout",
          "output_type": "stream",
          "text": [
            "'Subject'\n"
          ]
        },
        {
          "name": "stderr",
          "output_type": "stream",
          "text": [
            " 97%|█████████▋| 1967/2023 [09:23<00:10,  5.40it/s]"
          ]
        },
        {
          "name": "stdout",
          "output_type": "stream",
          "text": [
            "'Subject'\n"
          ]
        },
        {
          "name": "stderr",
          "output_type": "stream",
          "text": [
            " 98%|█████████▊| 1975/2023 [09:25<00:09,  5.06it/s]"
          ]
        },
        {
          "name": "stdout",
          "output_type": "stream",
          "text": [
            "'Subject'\n"
          ]
        },
        {
          "name": "stderr",
          "output_type": "stream",
          "text": [
            " 98%|█████████▊| 1984/2023 [09:27<00:08,  4.36it/s]"
          ]
        },
        {
          "name": "stdout",
          "output_type": "stream",
          "text": [
            "'Subject'\n"
          ]
        },
        {
          "name": "stderr",
          "output_type": "stream",
          "text": [
            " 98%|█████████▊| 1987/2023 [09:27<00:06,  5.24it/s]"
          ]
        },
        {
          "name": "stdout",
          "output_type": "stream",
          "text": [
            "'Subject'\n"
          ]
        },
        {
          "name": "stderr",
          "output_type": "stream",
          "text": [
            " 98%|█████████▊| 1989/2023 [09:28<00:06,  4.98it/s]"
          ]
        },
        {
          "name": "stdout",
          "output_type": "stream",
          "text": [
            "'Subject'\n"
          ]
        },
        {
          "name": "stderr",
          "output_type": "stream",
          "text": [
            " 99%|█████████▉| 1998/2023 [09:30<00:05,  4.28it/s]"
          ]
        },
        {
          "name": "stdout",
          "output_type": "stream",
          "text": [
            "'Subject'\n"
          ]
        },
        {
          "name": "stderr",
          "output_type": "stream",
          "text": [
            " 99%|█████████▉| 2004/2023 [09:32<00:05,  3.70it/s]"
          ]
        },
        {
          "name": "stdout",
          "output_type": "stream",
          "text": [
            "'Subject'\n"
          ]
        },
        {
          "name": "stderr",
          "output_type": "stream",
          "text": [
            "100%|█████████▉| 2019/2023 [09:36<00:01,  3.13it/s]"
          ]
        },
        {
          "name": "stdout",
          "output_type": "stream",
          "text": [
            "'Subject'\n"
          ]
        },
        {
          "name": "stderr",
          "output_type": "stream",
          "text": [
            "\r100%|█████████▉| 2020/2023 [09:36<00:01,  2.99it/s]"
          ]
        },
        {
          "name": "stdout",
          "output_type": "stream",
          "text": [
            "'Subject'\n"
          ]
        },
        {
          "name": "stderr",
          "output_type": "stream",
          "text": [
            "100%|██████████| 2023/2023 [09:37<00:00,  3.50it/s]\n"
          ]
        }
      ],
      "source": [
        "import os\n",
        "import subprocess\n",
        "import json\n",
        "from tqdm import tqdm\n",
        "\n",
        "subject_list = []\n",
        "description_list = []\n",
        "\n",
        "count = 0\n",
        "\n",
        "for file_i in tqdm(os.listdir()):\n",
        "  count += 1\n",
        "\n",
        "  if count > 20 and count < 30:\n",
        "    continue\n",
        "\n",
        "  # Run ExifTool and capture metadata as JSON\n",
        "  result = subprocess.run([\"exiftool\", \"-j\", file_i], capture_output=True, text=True)\n",
        "\n",
        "  try:\n",
        "    if result.returncode == 0:\n",
        "        metadata = json.loads(result.stdout)[0]  # Parse JSON output\n",
        "        # print(f\"Metadata for {file_i}:\")\n",
        "        # print(json.dumps(metadata, indent=4))  # Pretty-print all metadata\n",
        "        # print(metadata[\"Subject\"])\n",
        "        # print(metadata[\"Description\"])\n",
        "\n",
        "        subject_list += [str(tmp) for tmp in metadata[\"Subject\"]]\n",
        "        description_list += [str(tmp) for tmp in metadata[\"Description\"]]\n",
        "  except Exception as e:\n",
        "    print(e)\n"
      ]
    },
    {
      "cell_type": "code",
      "execution_count": null,
      "metadata": {
        "colab": {
          "base_uri": "https://localhost:8080/",
          "height": 542
        },
        "id": "7OSfdB2818gq",
        "outputId": "1bf1ae53-b256-4b27-84fc-15feb18f926b"
      },
      "outputs": [
        {
          "data": {
            "text/html": [
              "<html>\n",
              "<head><meta charset=\"utf-8\" /></head>\n",
              "<body>\n",
              "    <div>            <script src=\"https://cdnjs.cloudflare.com/ajax/libs/mathjax/2.7.5/MathJax.js?config=TeX-AMS-MML_SVG\"></script><script type=\"text/javascript\">if (window.MathJax && window.MathJax.Hub && window.MathJax.Hub.Config) {window.MathJax.Hub.Config({SVG: {font: \"STIX-Web\"}});}</script>                <script type=\"text/javascript\">window.PlotlyConfig = {MathJaxConfig: 'local'};</script>\n",
              "        <script charset=\"utf-8\" src=\"https://cdn.plot.ly/plotly-2.35.2.min.js\"></script>                <div id=\"be2c50ff-d2b4-44d9-aa5e-5f40f9cc8d94\" class=\"plotly-graph-div\" style=\"height:525px; width:100%;\"></div>            <script type=\"text/javascript\">                                    window.PLOTLYENV=window.PLOTLYENV || {};                                    if (document.getElementById(\"be2c50ff-d2b4-44d9-aa5e-5f40f9cc8d94\")) {                    Plotly.newPlot(                        \"be2c50ff-d2b4-44d9-aa5e-5f40f9cc8d94\",                        [{\"alignmentgroup\":\"True\",\"hovertemplate\":\"Words=%{x}\\u003cbr\\u003eFrequency=%{y}\\u003cextra\\u003e\\u003c\\u002fextra\\u003e\",\"legendgroup\":\"\",\"marker\":{\"color\":\"#2F4F4F\",\"pattern\":{\"shape\":\"\"}},\"name\":\"\",\"offsetgroup\":\"\",\"orientation\":\"v\",\"showlegend\":false,\"textposition\":\"auto\",\"x\":[\" \",\"e\",\",\",\"s\",\"r\",\"i\",\"a\",\"0\",\"o\",\"t\",\"n\",\"1\",\"-\",\"l\",\"m\",\"2\",\"u\",\"c\",\"h\",\"p\",\"d\",\"M\",\"g\",\"3\",\"v\",\"w\",\"9\",\"5\",\"8\",\"C\",\"4\",\"y\",\"S\",\"b\",\"7\",\"6\",\"f\",\"k\",\".\",\"R\",\"B\",\"P\",\"T\",\"\\n\",\"I\",\"D\",\"H\",\"A\",\"O\",\"N\",\"F\",\"L\",\"\\u002f\",\":\",\"K\",\"x\",\"G\",\"(\",\")\",\"J\",\"V\",\"E\",\"Z\",\"W\",\"z\",\"’\",\"q\",\"'\",\"Y\",\"j\",\"–\",\"U\",\"\\r\",\"X\",\";\",\"Q\",\"—\",\"_\",\" \",\"&\"],\"xaxis\":\"x\",\"y\":[22131,13093,12754,9085,8724,8701,8668,8425,7424,7148,6162,5499,4731,4367,4341,3669,3476,3402,3318,3120,3014,2055,1926,1713,1629,1586,1546,1471,1459,1438,1433,1424,1347,1316,1236,1176,1018,951,915,756,670,664,660,600,596,529,508,496,436,421,403,383,319,316,279,261,246,174,174,172,165,146,135,122,110,72,60,52,31,25,25,25,21,20,14,11,8,3,1,1],\"yaxis\":\"y\",\"type\":\"bar\"}],                        {\"template\":{\"data\":{\"histogram2dcontour\":[{\"type\":\"histogram2dcontour\",\"colorbar\":{\"outlinewidth\":0,\"ticks\":\"\"},\"colorscale\":[[0.0,\"#0d0887\"],[0.1111111111111111,\"#46039f\"],[0.2222222222222222,\"#7201a8\"],[0.3333333333333333,\"#9c179e\"],[0.4444444444444444,\"#bd3786\"],[0.5555555555555556,\"#d8576b\"],[0.6666666666666666,\"#ed7953\"],[0.7777777777777778,\"#fb9f3a\"],[0.8888888888888888,\"#fdca26\"],[1.0,\"#f0f921\"]]}],\"choropleth\":[{\"type\":\"choropleth\",\"colorbar\":{\"outlinewidth\":0,\"ticks\":\"\"}}],\"histogram2d\":[{\"type\":\"histogram2d\",\"colorbar\":{\"outlinewidth\":0,\"ticks\":\"\"},\"colorscale\":[[0.0,\"#0d0887\"],[0.1111111111111111,\"#46039f\"],[0.2222222222222222,\"#7201a8\"],[0.3333333333333333,\"#9c179e\"],[0.4444444444444444,\"#bd3786\"],[0.5555555555555556,\"#d8576b\"],[0.6666666666666666,\"#ed7953\"],[0.7777777777777778,\"#fb9f3a\"],[0.8888888888888888,\"#fdca26\"],[1.0,\"#f0f921\"]]}],\"heatmap\":[{\"type\":\"heatmap\",\"colorbar\":{\"outlinewidth\":0,\"ticks\":\"\"},\"colorscale\":[[0.0,\"#0d0887\"],[0.1111111111111111,\"#46039f\"],[0.2222222222222222,\"#7201a8\"],[0.3333333333333333,\"#9c179e\"],[0.4444444444444444,\"#bd3786\"],[0.5555555555555556,\"#d8576b\"],[0.6666666666666666,\"#ed7953\"],[0.7777777777777778,\"#fb9f3a\"],[0.8888888888888888,\"#fdca26\"],[1.0,\"#f0f921\"]]}],\"heatmapgl\":[{\"type\":\"heatmapgl\",\"colorbar\":{\"outlinewidth\":0,\"ticks\":\"\"},\"colorscale\":[[0.0,\"#0d0887\"],[0.1111111111111111,\"#46039f\"],[0.2222222222222222,\"#7201a8\"],[0.3333333333333333,\"#9c179e\"],[0.4444444444444444,\"#bd3786\"],[0.5555555555555556,\"#d8576b\"],[0.6666666666666666,\"#ed7953\"],[0.7777777777777778,\"#fb9f3a\"],[0.8888888888888888,\"#fdca26\"],[1.0,\"#f0f921\"]]}],\"contourcarpet\":[{\"type\":\"contourcarpet\",\"colorbar\":{\"outlinewidth\":0,\"ticks\":\"\"}}],\"contour\":[{\"type\":\"contour\",\"colorbar\":{\"outlinewidth\":0,\"ticks\":\"\"},\"colorscale\":[[0.0,\"#0d0887\"],[0.1111111111111111,\"#46039f\"],[0.2222222222222222,\"#7201a8\"],[0.3333333333333333,\"#9c179e\"],[0.4444444444444444,\"#bd3786\"],[0.5555555555555556,\"#d8576b\"],[0.6666666666666666,\"#ed7953\"],[0.7777777777777778,\"#fb9f3a\"],[0.8888888888888888,\"#fdca26\"],[1.0,\"#f0f921\"]]}],\"surface\":[{\"type\":\"surface\",\"colorbar\":{\"outlinewidth\":0,\"ticks\":\"\"},\"colorscale\":[[0.0,\"#0d0887\"],[0.1111111111111111,\"#46039f\"],[0.2222222222222222,\"#7201a8\"],[0.3333333333333333,\"#9c179e\"],[0.4444444444444444,\"#bd3786\"],[0.5555555555555556,\"#d8576b\"],[0.6666666666666666,\"#ed7953\"],[0.7777777777777778,\"#fb9f3a\"],[0.8888888888888888,\"#fdca26\"],[1.0,\"#f0f921\"]]}],\"mesh3d\":[{\"type\":\"mesh3d\",\"colorbar\":{\"outlinewidth\":0,\"ticks\":\"\"}}],\"scatter\":[{\"fillpattern\":{\"fillmode\":\"overlay\",\"size\":10,\"solidity\":0.2},\"type\":\"scatter\"}],\"parcoords\":[{\"type\":\"parcoords\",\"line\":{\"colorbar\":{\"outlinewidth\":0,\"ticks\":\"\"}}}],\"scatterpolargl\":[{\"type\":\"scatterpolargl\",\"marker\":{\"colorbar\":{\"outlinewidth\":0,\"ticks\":\"\"}}}],\"bar\":[{\"error_x\":{\"color\":\"#2a3f5f\"},\"error_y\":{\"color\":\"#2a3f5f\"},\"marker\":{\"line\":{\"color\":\"#E5ECF6\",\"width\":0.5},\"pattern\":{\"fillmode\":\"overlay\",\"size\":10,\"solidity\":0.2}},\"type\":\"bar\"}],\"scattergeo\":[{\"type\":\"scattergeo\",\"marker\":{\"colorbar\":{\"outlinewidth\":0,\"ticks\":\"\"}}}],\"scatterpolar\":[{\"type\":\"scatterpolar\",\"marker\":{\"colorbar\":{\"outlinewidth\":0,\"ticks\":\"\"}}}],\"histogram\":[{\"marker\":{\"pattern\":{\"fillmode\":\"overlay\",\"size\":10,\"solidity\":0.2}},\"type\":\"histogram\"}],\"scattergl\":[{\"type\":\"scattergl\",\"marker\":{\"colorbar\":{\"outlinewidth\":0,\"ticks\":\"\"}}}],\"scatter3d\":[{\"type\":\"scatter3d\",\"line\":{\"colorbar\":{\"outlinewidth\":0,\"ticks\":\"\"}},\"marker\":{\"colorbar\":{\"outlinewidth\":0,\"ticks\":\"\"}}}],\"scattermapbox\":[{\"type\":\"scattermapbox\",\"marker\":{\"colorbar\":{\"outlinewidth\":0,\"ticks\":\"\"}}}],\"scatterternary\":[{\"type\":\"scatterternary\",\"marker\":{\"colorbar\":{\"outlinewidth\":0,\"ticks\":\"\"}}}],\"scattercarpet\":[{\"type\":\"scattercarpet\",\"marker\":{\"colorbar\":{\"outlinewidth\":0,\"ticks\":\"\"}}}],\"carpet\":[{\"aaxis\":{\"endlinecolor\":\"#2a3f5f\",\"gridcolor\":\"white\",\"linecolor\":\"white\",\"minorgridcolor\":\"white\",\"startlinecolor\":\"#2a3f5f\"},\"baxis\":{\"endlinecolor\":\"#2a3f5f\",\"gridcolor\":\"white\",\"linecolor\":\"white\",\"minorgridcolor\":\"white\",\"startlinecolor\":\"#2a3f5f\"},\"type\":\"carpet\"}],\"table\":[{\"cells\":{\"fill\":{\"color\":\"#EBF0F8\"},\"line\":{\"color\":\"white\"}},\"header\":{\"fill\":{\"color\":\"#C8D4E3\"},\"line\":{\"color\":\"white\"}},\"type\":\"table\"}],\"barpolar\":[{\"marker\":{\"line\":{\"color\":\"#E5ECF6\",\"width\":0.5},\"pattern\":{\"fillmode\":\"overlay\",\"size\":10,\"solidity\":0.2}},\"type\":\"barpolar\"}],\"pie\":[{\"automargin\":true,\"type\":\"pie\"}]},\"layout\":{\"autotypenumbers\":\"strict\",\"colorway\":[\"#636efa\",\"#EF553B\",\"#00cc96\",\"#ab63fa\",\"#FFA15A\",\"#19d3f3\",\"#FF6692\",\"#B6E880\",\"#FF97FF\",\"#FECB52\"],\"font\":{\"color\":\"#2a3f5f\"},\"hovermode\":\"closest\",\"hoverlabel\":{\"align\":\"left\"},\"paper_bgcolor\":\"white\",\"plot_bgcolor\":\"#E5ECF6\",\"polar\":{\"bgcolor\":\"#E5ECF6\",\"angularaxis\":{\"gridcolor\":\"white\",\"linecolor\":\"white\",\"ticks\":\"\"},\"radialaxis\":{\"gridcolor\":\"white\",\"linecolor\":\"white\",\"ticks\":\"\"}},\"ternary\":{\"bgcolor\":\"#E5ECF6\",\"aaxis\":{\"gridcolor\":\"white\",\"linecolor\":\"white\",\"ticks\":\"\"},\"baxis\":{\"gridcolor\":\"white\",\"linecolor\":\"white\",\"ticks\":\"\"},\"caxis\":{\"gridcolor\":\"white\",\"linecolor\":\"white\",\"ticks\":\"\"}},\"coloraxis\":{\"colorbar\":{\"outlinewidth\":0,\"ticks\":\"\"}},\"colorscale\":{\"sequential\":[[0.0,\"#0d0887\"],[0.1111111111111111,\"#46039f\"],[0.2222222222222222,\"#7201a8\"],[0.3333333333333333,\"#9c179e\"],[0.4444444444444444,\"#bd3786\"],[0.5555555555555556,\"#d8576b\"],[0.6666666666666666,\"#ed7953\"],[0.7777777777777778,\"#fb9f3a\"],[0.8888888888888888,\"#fdca26\"],[1.0,\"#f0f921\"]],\"sequentialminus\":[[0.0,\"#0d0887\"],[0.1111111111111111,\"#46039f\"],[0.2222222222222222,\"#7201a8\"],[0.3333333333333333,\"#9c179e\"],[0.4444444444444444,\"#bd3786\"],[0.5555555555555556,\"#d8576b\"],[0.6666666666666666,\"#ed7953\"],[0.7777777777777778,\"#fb9f3a\"],[0.8888888888888888,\"#fdca26\"],[1.0,\"#f0f921\"]],\"diverging\":[[0,\"#8e0152\"],[0.1,\"#c51b7d\"],[0.2,\"#de77ae\"],[0.3,\"#f1b6da\"],[0.4,\"#fde0ef\"],[0.5,\"#f7f7f7\"],[0.6,\"#e6f5d0\"],[0.7,\"#b8e186\"],[0.8,\"#7fbc41\"],[0.9,\"#4d9221\"],[1,\"#276419\"]]},\"xaxis\":{\"gridcolor\":\"white\",\"linecolor\":\"white\",\"ticks\":\"\",\"title\":{\"standoff\":15},\"zerolinecolor\":\"white\",\"automargin\":true,\"zerolinewidth\":2},\"yaxis\":{\"gridcolor\":\"white\",\"linecolor\":\"white\",\"ticks\":\"\",\"title\":{\"standoff\":15},\"zerolinecolor\":\"white\",\"automargin\":true,\"zerolinewidth\":2},\"scene\":{\"xaxis\":{\"backgroundcolor\":\"#E5ECF6\",\"gridcolor\":\"white\",\"linecolor\":\"white\",\"showbackground\":true,\"ticks\":\"\",\"zerolinecolor\":\"white\",\"gridwidth\":2},\"yaxis\":{\"backgroundcolor\":\"#E5ECF6\",\"gridcolor\":\"white\",\"linecolor\":\"white\",\"showbackground\":true,\"ticks\":\"\",\"zerolinecolor\":\"white\",\"gridwidth\":2},\"zaxis\":{\"backgroundcolor\":\"#E5ECF6\",\"gridcolor\":\"white\",\"linecolor\":\"white\",\"showbackground\":true,\"ticks\":\"\",\"zerolinecolor\":\"white\",\"gridwidth\":2}},\"shapedefaults\":{\"line\":{\"color\":\"#2a3f5f\"}},\"annotationdefaults\":{\"arrowcolor\":\"#2a3f5f\",\"arrowhead\":0,\"arrowwidth\":1},\"geo\":{\"bgcolor\":\"white\",\"landcolor\":\"#E5ECF6\",\"subunitcolor\":\"white\",\"showland\":true,\"showlakes\":true,\"lakecolor\":\"white\"},\"title\":{\"x\":0.05},\"mapbox\":{\"style\":\"light\"}}},\"xaxis\":{\"anchor\":\"y\",\"domain\":[0.0,1.0],\"title\":{\"text\":\"Words\"}},\"yaxis\":{\"anchor\":\"x\",\"domain\":[0.0,1.0],\"title\":{\"text\":\"Frequency\"}},\"legend\":{\"tracegroupgap\":0},\"title\":{\"text\":\"Description Histogram\"},\"barmode\":\"relative\"},                        {\"responsive\": true}                    ).then(function(){\n",
              "                            \n",
              "var gd = document.getElementById('be2c50ff-d2b4-44d9-aa5e-5f40f9cc8d94');\n",
              "var x = new MutationObserver(function (mutations, observer) {{\n",
              "        var display = window.getComputedStyle(gd).display;\n",
              "        if (!display || display === 'none') {{\n",
              "            console.log([gd, 'removed!']);\n",
              "            Plotly.purge(gd);\n",
              "            observer.disconnect();\n",
              "        }}\n",
              "}});\n",
              "\n",
              "// Listen for the removal of the full notebook cells\n",
              "var notebookContainer = gd.closest('#notebook-container');\n",
              "if (notebookContainer) {{\n",
              "    x.observe(notebookContainer, {childList: true});\n",
              "}}\n",
              "\n",
              "// Listen for the clearing of the current output cell\n",
              "var outputEl = gd.closest('.output');\n",
              "if (outputEl) {{\n",
              "    x.observe(outputEl, {childList: true});\n",
              "}}\n",
              "\n",
              "                        })                };                            </script>        </div>\n",
              "</body>\n",
              "</html>"
            ]
          },
          "metadata": {},
          "output_type": "display_data"
        }
      ],
      "source": [
        "import plotly.express as px\n",
        "from collections import Counter\n",
        "\n",
        "\n",
        "# Count occurrences of each word\n",
        "word_counts = Counter(description_list)\n",
        "\n",
        "# Convert to a sorted list of tuples by frequency in descending order\n",
        "sorted_word_counts = sorted(word_counts.items(), key=lambda x: x[1], reverse=True)\n",
        "\n",
        "# Extract data for plotting\n",
        "words, counts = zip(*sorted_word_counts)\n",
        "\n",
        "# Create the histogram\n",
        "fig = px.bar(x=words, y=counts, labels={'x': 'Words', 'y': 'Frequency'}, title=\"Description Histogram\", color_discrete_sequence=['#2F4F4F'])\n",
        "\n",
        "# Display the plot\n",
        "fig.show()"
      ]
    }
  ],
  "metadata": {
    "colab": {
      "provenance": []
    },
    "kernelspec": {
      "display_name": "Python 3",
      "name": "python3"
    },
    "language_info": {
      "name": "python"
    }
  },
  "nbformat": 4,
  "nbformat_minor": 0
}
